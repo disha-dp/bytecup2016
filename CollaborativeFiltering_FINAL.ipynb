{
 "cells": [
  {
   "cell_type": "code",
   "execution_count": 1,
   "metadata": {
    "collapsed": false
   },
   "outputs": [
    {
     "name": "stderr",
     "output_type": "stream",
     "text": [
      "/Applications/anaconda/lib/python2.7/site-packages/pandas/computation/__init__.py:19: UserWarning: The installed version of numexpr 2.4.4 is not supported in pandas and will be not be used\n",
      "\n",
      "  UserWarning)\n"
     ]
    }
   ],
   "source": [
    "import pandas as pa\n",
    "import numpy as np\n",
    "import sklearn\n",
    "from sklearn import preprocessing\n",
    "import math\n",
    "from itertools import izip"
   ]
  },
  {
   "cell_type": "code",
   "execution_count": 2,
   "metadata": {
    "collapsed": false
   },
   "outputs": [],
   "source": [
    "training_data = pa.read_csv(\"../bytecup2016data/invited_info_train.txt\", sep = \"\\t\")\n",
    "question_data =  pa.read_csv(\"../bytecup2016data/question_info.txt\", sep=\"\\t\")\n",
    "user_data =  pa.read_csv(\"../bytecup2016data/user_info.txt\", sep = \"\\t\")\n",
    "validation_info = pa.read_csv(\"../bytecup2016data/validate_nolabel.txt\", sep = \",\")"
   ]
  },
  {
   "cell_type": "code",
   "execution_count": 3,
   "metadata": {
    "collapsed": false
   },
   "outputs": [],
   "source": [
    "test_data = pa.read_csv(\"../bytecup2016data/test.csv\", sep = \",\")"
   ]
  },
  {
   "cell_type": "code",
   "execution_count": 4,
   "metadata": {
    "collapsed": true
   },
   "outputs": [],
   "source": [
    "'''\n",
    "u/q matrix \n",
    "'''\n",
    "question_list = list(set(training_data.iloc[:,0]))\n",
    "expert_list = list(set(training_data.iloc[:,1]))"
   ]
  },
  {
   "cell_type": "code",
   "execution_count": 5,
   "metadata": {
    "collapsed": false
   },
   "outputs": [],
   "source": [
    "'''\n",
    "{\n",
    "u1: [0,1,2,3],\n",
    "}\n",
    "'''\n",
    "prediction_dict = {}\n",
    "#print validation_info\n",
    "for row in range(validation_info.shape[0]):\n",
    "    row_info = validation_info.iloc[row]\n",
    "    curr_q , curr_u  =  row_info[0], row_info[1] \n",
    "\n",
    "    if curr_u not in expert_list:\n",
    "        expert_list.append(curr_u)\n",
    "    \n",
    "    if curr_q not in question_list:\n",
    "        question_list.append(curr_q)\n",
    "        \n",
    "    question_index = question_list.index(curr_q)  \n",
    "    expert_index = expert_list.index(curr_u)    \n",
    "    \n",
    "\n",
    "    if expert_index not in prediction_dict:\n",
    "        prediction_dict[expert_index]=[question_index]\n",
    "    else:\n",
    "        prediction_dict[expert_index].append(question_index)"
   ]
  },
  {
   "cell_type": "code",
   "execution_count": 6,
   "metadata": {
    "collapsed": true
   },
   "outputs": [],
   "source": [
    "#dictionary for test data\n",
    "'''\n",
    "{\n",
    "u1: [0,1,2,3],\n",
    "}\n",
    "'''\n",
    "prediction_dict_test = {}\n",
    "for row in range(test_data.shape[0]):\n",
    "    row_info = test_data.iloc[row]\n",
    "    curr_q , curr_u  =  row_info[0], row_info[1] \n",
    "\n",
    "    if curr_u not in expert_list:\n",
    "        expert_list.append(curr_u)\n",
    "    \n",
    "    if curr_q not in question_list:\n",
    "        question_list.append(curr_q)\n",
    "        \n",
    "    question_index = question_list.index(curr_q)  \n",
    "    expert_index = expert_list.index(curr_u)    \n",
    "    \n",
    "\n",
    "    if expert_index not in prediction_dict_test:\n",
    "        prediction_dict_test[expert_index]=[]\n",
    "    \n",
    "    prediction_dict_test[expert_index].append(question_index)"
   ]
  },
  {
   "cell_type": "code",
   "execution_count": 7,
   "metadata": {
    "collapsed": false
   },
   "outputs": [
    {
     "data": {
      "text/plain": [
       "'\\nprediction_dict_small = {}\\nfor row in range(10):\\n    row_info = validation_info.iloc[row]\\n    curr_q , curr_u  =  row_info[0], row_info[1] \\n\\n    #if curr_u not in expert_list:\\n    #    expert_list.append(curr_u)\\n    \\n    #if curr_q not in question_list:\\n    #    question_list.append(curr_q)\\n        \\n    question_index = question_list.index(curr_q)  \\n    expert_index = expert_list.index(curr_u)    \\n    \\n    if expert_index not in prediction_dict_small:\\n        prediction_dict_small[expert_index]=[question_index]\\n    else:\\n        prediction_dict_small[expert_index].append(question_index)\\n'"
      ]
     },
     "execution_count": 7,
     "metadata": {},
     "output_type": "execute_result"
    }
   ],
   "source": [
    "#working on a small dictionary\n",
    "'''\n",
    "prediction_dict_small = {}\n",
    "for row in range(10):\n",
    "    row_info = validation_info.iloc[row]\n",
    "    curr_q , curr_u  =  row_info[0], row_info[1] \n",
    "\n",
    "    #if curr_u not in expert_list:\n",
    "    #    expert_list.append(curr_u)\n",
    "    \n",
    "    #if curr_q not in question_list:\n",
    "    #    question_list.append(curr_q)\n",
    "        \n",
    "    question_index = question_list.index(curr_q)  \n",
    "    expert_index = expert_list.index(curr_u)    \n",
    "    \n",
    "    if expert_index not in prediction_dict_small:\n",
    "        prediction_dict_small[expert_index]=[question_index]\n",
    "    else:\n",
    "        prediction_dict_small[expert_index].append(question_index)\n",
    "'''"
   ]
  },
  {
   "cell_type": "code",
   "execution_count": 9,
   "metadata": {
    "collapsed": true
   },
   "outputs": [],
   "source": [
    "#row_train = training_data.shape[0]\n",
    "\n",
    "eq_matrix = np.zeros((len(expert_list), len(question_list)))\n",
    "eq_matrix.fill(np.nan) #----fill with nans"
   ]
  },
  {
   "cell_type": "code",
   "execution_count": 10,
   "metadata": {
    "collapsed": false
   },
   "outputs": [],
   "source": [
    "lines = []\n",
    "for row in range(training_data.shape[0]):\n",
    "    \n",
    "    row_info = training_data.iloc[row]\n",
    "    curr_q , curr_u, label =  row_info[0], row_info[1], row_info[2] \n",
    "    question_index = question_list.index(curr_q)      \n",
    "    expert_index = expert_list.index(curr_u)    \n",
    "    eq_matrix[expert_index][question_index] =  label"
   ]
  },
  {
   "cell_type": "code",
   "execution_count": 179,
   "metadata": {
    "collapsed": false
   },
   "outputs": [
    {
     "name": "stdout",
     "output_type": "stream",
     "text": [
      "0.0942667967506\n"
     ]
    }
   ],
   "source": [
    "'''\n",
    "r_bar = []\n",
    "'''\n",
    "#for row in range(eq_matrix.shape[0]):\n",
    "#0: 0 0 0 0 0 1 1 nan nan\n",
    "ru_bar  =  np.nanmean(eq_matrix , axis = 1)\n",
    "\n",
    "rq_bar =  np.nanmean(eq_matrix , axis = 0)\n",
    "\n",
    "u_avg = np.nanmean(ru_bar)\n",
    "q_avg = np.nanmean(rq_bar)\n",
    "\n",
    "print u_avg\n",
    "ru_bar[np.isnan(ru_bar)] = u_avg\n",
    "rq_bar[np.isnan(rq_bar)] = q_avg\n",
    "# ru_bar = pa.DataFrame(ru_bar1).fillna(u_avg)\n",
    "# rq_bar =  pa.DataFrame(rq_bar1).fillna(q_avg)\n",
    "# print '@@@',type(ru_bar)\n",
    "# print '!!!',ru_bar\n",
    "prior_expert = ru_bar\n",
    "prior_item = rq_bar"
   ]
  },
  {
   "cell_type": "code",
   "execution_count": 130,
   "metadata": {
    "collapsed": false
   },
   "outputs": [
    {
     "name": "stdout",
     "output_type": "stream",
     "text": [
      "0.0942474454483 <type 'numpy.ndarray'>\n"
     ]
    }
   ],
   "source": [
    "print u_avg, type(ru_bar)\n",
    "#fill nan with average of other values"
   ]
  },
  {
   "cell_type": "code",
   "execution_count": 180,
   "metadata": {
    "collapsed": false
   },
   "outputs": [],
   "source": [
    "#ru_bar = ru_bar.values.T.tolist()\n",
    "#rq_bar = rq_bar.values.T.tolist()\n",
    "# ru_bar1 = ru_bar1[0]\n",
    "\n",
    "#print list(ru_bar)\n",
    "#print type(rq_bar)"
   ]
  },
  {
   "cell_type": "code",
   "execution_count": null,
   "metadata": {
    "collapsed": true
   },
   "outputs": [],
   "source": [
    "#Q: -> should I init remaining vals to avg of matrix      ???????????"
   ]
  },
  {
   "cell_type": "code",
   "execution_count": 181,
   "metadata": {
    "collapsed": false
   },
   "outputs": [],
   "source": [
    "'''\n",
    "w_a_u = expert * expert\n",
    "'''\n",
    "num_experts = eq_matrix.shape[0]\n",
    "wau = np.zeros((num_experts,num_experts))\n",
    "\n",
    "rated_questions = []\n",
    "\n",
    "for exp in range(num_experts):\n",
    "    faced = np.argwhere(~np.isnan(eq_matrix[exp]))\n",
    "    c=map(float, faced)\n",
    "    rated_questions.append(c)"
   ]
  },
  {
   "cell_type": "code",
   "execution_count": 182,
   "metadata": {
    "collapsed": false,
    "scrolled": false
   },
   "outputs": [
    {
     "name": "stderr",
     "output_type": "stream",
     "text": [
      "/Applications/anaconda/lib/python2.7/site-packages/ipykernel/__main__.py:15: DeprecationWarning: using a non-integer number instead of an integer will result in an error in the future\n",
      "/Applications/anaconda/lib/python2.7/site-packages/ipykernel/__main__.py:16: DeprecationWarning: using a non-integer number instead of an integer will result in an error in the future\n"
     ]
    }
   ],
   "source": [
    "for exp1 in range(num_experts):\n",
    "    for exp2 in range(exp1+1):\n",
    "        #print '.',\n",
    "        #wau[exp1][exp2] = 0\n",
    "        \n",
    "        common_qs = set(rated_questions[exp1]).intersection(set(rated_questions[exp2]))\n",
    "        nr = 0\n",
    "        dr1 = 0\n",
    "        dr2 = 0\n",
    "        a_bar = ru_bar[exp1]\n",
    "        u_bar = ru_bar[exp2]\n",
    "        \n",
    "#         print ru_bar\n",
    "        for q in common_qs:\n",
    "            pa = (eq_matrix[exp1][q] - a_bar )\n",
    "            pu =  (eq_matrix[exp2][q] - u_bar)\n",
    "#             print type(pa)\n",
    "            nr +=  float(pa)* pu\n",
    "            dr1 += (pa)**2\n",
    "            dr2 += (pu)**2\n",
    "\n",
    "        dr = math.sqrt(dr1 * dr2)\n",
    "        '''if  (a_bar == 0.0 and u_bar == 1.0)  or  (a_bar == 1.0 and u_bar == 0.0) :#when all ratings are the same \n",
    "            wau[exp1][exp2] = 0\n",
    "            wau[exp2][exp1] = 0\n",
    "\n",
    "\n",
    "        elif  (a_bar == 0.0 and u_bar == 0.0) or  (a_bar == 1.0 and u_bar == 1.0)  :#when all ratings are the same \n",
    "            wau[exp1][exp2] = 1\n",
    "            wau[exp2][exp1] = 1\n",
    "        \n",
    "        else: \n",
    "       '''     #print nr, dr , a_bar, u_bar\n",
    "        if dr == 0: \n",
    "            wau[exp1][exp2] = 0  #??????????????\n",
    "#             print 'wau',wau[exp1][exp2]\n",
    "        else:        \n",
    "            wau[exp1][exp2] = 1.0*nr/dr\n",
    "            wau[exp2][exp1] = wau[exp1][exp2]\n",
    "#             print 'wau',wau[exp1][exp2]"
   ]
  },
  {
   "cell_type": "code",
   "execution_count": 183,
   "metadata": {
    "collapsed": true
   },
   "outputs": [],
   "source": [
    "#------ predict funtion\n",
    "import heapq\n",
    "import numpy\n",
    "K = 50\n",
    "def predict_rating(a,q):\n",
    "    global K\n",
    "    if not math.isnan(eq_matrix[a][q]):\n",
    "        return eq_matrix[a][q]\n",
    "    \n",
    "    pred = 0\n",
    "    \n",
    "    a_bar = ru_bar[a]\n",
    "    if math.isnan(a_bar):\n",
    "        a_bar = 0\n",
    "\n",
    "    part2 = 0\n",
    "    p2num = 0\n",
    "    p2den = 0\n",
    "    \n",
    "    usrs = wau[a] #all users with curr user comb\n",
    "    topK = heapq.nlargest(K, range(len(usrs)), usrs.take)\n",
    "    for u_idx in topK:\n",
    "        if not math.isnan(eq_matrix[u_idx][q]):\n",
    "            curr_wau = wau[a][u_idx]\n",
    "            curr_dev = (eq_matrix[u_idx][q] - ru_bar[u_idx])\n",
    "            p2num += curr_wau * curr_dev\n",
    "            p2den += abs(wau[a][u_idx])\n",
    "    if p2den!=0:    \n",
    "        part2 = p2num/p2den\n",
    "    else:\n",
    "        part2 = 0\n",
    "        \n",
    "    if math.isnan(part2):\n",
    "        part2 = 0 \n",
    "    \n",
    "    return abs(a_bar + part2)"
   ]
  },
  {
   "cell_type": "code",
   "execution_count": 184,
   "metadata": {
    "collapsed": false
   },
   "outputs": [
    {
     "data": {
      "text/plain": [
       "'\\nTime to make predicitons\\n'"
      ]
     },
     "execution_count": 184,
     "metadata": {},
     "output_type": "execute_result"
    }
   ],
   "source": [
    "'''\n",
    "Time to make predicitons\n",
    "'''\n",
    "# for u in prediction_dict_small:\n",
    "#     for q in prediction_dict_small[u]:\n",
    "#         print 'u',u\n",
    "#         print 'q',q\n",
    "# #         print 'eq_matrix',eq_matrix[u][q]\n",
    "         \n",
    "#         r = predict_rating(u,q)\n",
    "#         eq_matrix[u][q] = r\n",
    "#         print '$$$',r\n",
    "#         print '$$$',eq_matrix[u][q]\n",
    "#         #raw_input()\n",
    "\n"
   ]
  },
  {
   "cell_type": "code",
   "execution_count": 194,
   "metadata": {
    "collapsed": false,
    "scrolled": false
   },
   "outputs": [],
   "source": [
    "#print list(eq_matrix[78])\n"
   ]
  },
  {
   "cell_type": "code",
   "execution_count": 195,
   "metadata": {
    "collapsed": false,
    "scrolled": false
   },
   "outputs": [],
   "source": [
    "'''''\n",
    "Time to make predicitons for validations\n",
    "'''\n",
    "for u in prediction_dict:\n",
    "    for q in prediction_dict[u]:\n",
    "        #print 'u',u\n",
    "        #print 'q',q\n",
    "        #  print 'eq_matrix',eq_matrix[u][q]\n",
    "        r = predict_rating(u,q)\n",
    "        eq_matrix[u][q] = r\n",
    "        #print '$$$',r\n",
    "        #print '$$$',eq_matrix[u][q]\n",
    "        #raw_input()\n",
    "\n",
    "#print eq_matrix[24]"
   ]
  },
  {
   "cell_type": "code",
   "execution_count": 196,
   "metadata": {
    "collapsed": true
   },
   "outputs": [],
   "source": [
    "#--- time for test preds\n",
    "for u in prediction_dict_test:\n",
    "    for q in prediction_dict_test[u]:\n",
    "        r = predict_rating(u,q)\n",
    "        eq_matrix[u][q] = r\n"
   ]
  },
  {
   "cell_type": "code",
   "execution_count": 24,
   "metadata": {
    "collapsed": false,
    "scrolled": false
   },
   "outputs": [],
   "source": [
    "#print list(eq_matrix[26297])"
   ]
  },
  {
   "cell_type": "code",
   "execution_count": 197,
   "metadata": {
    "collapsed": false
   },
   "outputs": [],
   "source": [
    "avg_matrix = np.nanmean(eq_matrix)"
   ]
  },
  {
   "cell_type": "code",
   "execution_count": 198,
   "metadata": {
    "collapsed": false
   },
   "outputs": [
    {
     "name": "stdout",
     "output_type": "stream",
     "text": [
      "0.119762123546\n"
     ]
    }
   ],
   "source": [
    "print avg_matrix"
   ]
  },
  {
   "cell_type": "code",
   "execution_count": 199,
   "metadata": {
    "collapsed": false
   },
   "outputs": [],
   "source": [
    "def ReadPredictions(dataset):\n",
    "    global question_list, expert_list\n",
    "    #------can be repeated for training data\n",
    "    val_r_count = dataset.shape[0]\n",
    "    y_pred = []\n",
    "    for vrow in range(val_r_count):\n",
    "        qid, uid = dataset.ix[vrow][0] ,  dataset.ix[vrow][1]\n",
    "        question_index = question_list.index(qid)  \n",
    "        expert_index = expert_list.index(uid)    \n",
    "        curr_prob = 0\n",
    "        if expert_index < eq_matrix.shape[0]:\n",
    "            if question_index < eq_matrix.shape[1]: \n",
    "                curr_prob = eq_matrix[expert_index][question_index]\n",
    "            else: \n",
    "                #question prediction not found\n",
    "                curr_prob = ru_bar[expert_index]\n",
    "        else: \n",
    "            #expert not in our matrix\n",
    "            if question_index < eq_matrix.shape[1]:\n",
    "                curr_prob = prior_item[question_index]\n",
    "            else:\n",
    "                print 'neither user nor ques found'\n",
    "                curr_prob = avg_matrix\n",
    "        y_pred.append(curr_prob)\n",
    "    return y_pred"
   ]
  },
  {
   "cell_type": "code",
   "execution_count": 200,
   "metadata": {
    "collapsed": false
   },
   "outputs": [],
   "source": [
    "yPredValidation = ReadPredictions(validation_info)"
   ]
  },
  {
   "cell_type": "code",
   "execution_count": 201,
   "metadata": {
    "collapsed": true
   },
   "outputs": [],
   "source": [
    "yPredTest =  ReadPredictions(test_data)"
   ]
  },
  {
   "cell_type": "code",
   "execution_count": 202,
   "metadata": {
    "collapsed": false
   },
   "outputs": [],
   "source": [
    "yPredTrain = ReadPredictions(training_data)"
   ]
  },
  {
   "cell_type": "code",
   "execution_count": 203,
   "metadata": {
    "collapsed": true
   },
   "outputs": [],
   "source": [
    "y_pred_valid_str = map(str, yPredValidation)\n",
    "with open('CollFiltering_Validation3.csv','w') as f:\n",
    "    f.write('\\n'.join(y_pred_valid_str))"
   ]
  },
  {
   "cell_type": "code",
   "execution_count": 204,
   "metadata": {
    "collapsed": true
   },
   "outputs": [],
   "source": [
    "y_pred_test_str = map(str, yPredTest)\n",
    "with open('CollFiltering_Test3.csv','w') as f:\n",
    "    f.write('\\n'.join(y_pred_test_str))"
   ]
  },
  {
   "cell_type": "code",
   "execution_count": 205,
   "metadata": {
    "collapsed": true
   },
   "outputs": [],
   "source": [
    "y_pred_train_str = map(str, yPredTrain)\n",
    "with open('CollFiltering_Train3.csv','w') as f:\n",
    "    f.write('\\n'.join(y_pred_train_str))"
   ]
  },
  {
   "cell_type": "code",
   "execution_count": 53,
   "metadata": {
    "collapsed": false
   },
   "outputs": [
    {
     "name": "stdout",
     "output_type": "stream",
     "text": [
      "0.0414141414141\n"
     ]
    }
   ],
   "source": [
    "print yPred , yPredTrain"
   ]
  },
  {
   "cell_type": "code",
   "execution_count": 161,
   "metadata": {
    "collapsed": true
   },
   "outputs": [],
   "source": [
    "def RMSE(y_true, y_pred):\n",
    "    return np.sqrt(np.mean((y_pred - y_true)**2))"
   ]
  },
  {
   "cell_type": "code",
   "execution_count": 154,
   "metadata": {
    "collapsed": true
   },
   "outputs": [],
   "source": [
    "with open('CF_NEW_Validation.csv','w') as f:\n",
    "    f.write('\\n'.join(lines))"
   ]
  },
  {
   "cell_type": "code",
   "execution_count": 163,
   "metadata": {
    "collapsed": false
   },
   "outputs": [
    {
     "name": "stdout",
     "output_type": "stream",
     "text": [
      "0.062082775954\n"
     ]
    }
   ],
   "source": [
    "#y_preds = ReadPredictions(training_data)\n",
    "y_true = training_data.iloc[:,2]\n",
    "print RMSE(y_true, yPredTrain)\n"
   ]
  },
  {
   "cell_type": "code",
   "execution_count": 164,
   "metadata": {
    "collapsed": false
   },
   "outputs": [
    {
     "ename": "AttributeError",
     "evalue": "'numpy.float64' object has no attribute 'read_csv'",
     "output_type": "error",
     "traceback": [
      "\u001b[0;31m---------------------------------------------------------------------------\u001b[0m",
      "\u001b[0;31mAttributeError\u001b[0m                            Traceback (most recent call last)",
      "\u001b[0;32m<ipython-input-164-9cd50eb5a295>\u001b[0m in \u001b[0;36m<module>\u001b[0;34m()\u001b[0m\n\u001b[1;32m      1\u001b[0m \u001b[0;31m#calculate test acc\u001b[0m\u001b[0;34m\u001b[0m\u001b[0;34m\u001b[0m\u001b[0m\n\u001b[0;32m----> 2\u001b[0;31m \u001b[0mtest_data\u001b[0m  \u001b[0;34m=\u001b[0m \u001b[0mpa\u001b[0m\u001b[0;34m.\u001b[0m\u001b[0mread_csv\u001b[0m\u001b[0;34m(\u001b[0m\u001b[0;34m\"../bytecup2016data/test_nolabel.txt\"\u001b[0m\u001b[0;34m,\u001b[0m \u001b[0msep\u001b[0m \u001b[0;34m=\u001b[0m \u001b[0;34m\"\\t\"\u001b[0m\u001b[0;34m)\u001b[0m\u001b[0;34m\u001b[0m\u001b[0m\n\u001b[0m",
      "\u001b[0;31mAttributeError\u001b[0m: 'numpy.float64' object has no attribute 'read_csv'"
     ]
    }
   ],
   "source": [
    "#calculate test acc\n",
    "test_data  = pa.read_csv(\"../bytecup2016data/test_nolabel.txt\", sep = \"\\t\")\n"
   ]
  },
  {
   "cell_type": "code",
   "execution_count": null,
   "metadata": {
    "collapsed": true
   },
   "outputs": [],
   "source": []
  }
 ],
 "metadata": {
  "kernelspec": {
   "display_name": "Python 2",
   "language": "python",
   "name": "python2"
  },
  "language_info": {
   "codemirror_mode": {
    "name": "ipython",
    "version": 2
   },
   "file_extension": ".py",
   "mimetype": "text/x-python",
   "name": "python",
   "nbconvert_exporter": "python",
   "pygments_lexer": "ipython2",
   "version": "2.7.12"
  }
 },
 "nbformat": 4,
 "nbformat_minor": 0
}
