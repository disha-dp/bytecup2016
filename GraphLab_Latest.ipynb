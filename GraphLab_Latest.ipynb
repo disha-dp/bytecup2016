{
 "cells": [
  {
   "cell_type": "code",
   "execution_count": 1,
   "metadata": {
    "collapsed": false
   },
   "outputs": [
    {
     "name": "stderr",
     "output_type": "stream",
     "text": [
      "/Applications/anaconda/lib/python2.7/site-packages/pandas/computation/__init__.py:19: UserWarning: The installed version of numexpr 2.4.4 is not supported in pandas and will be not be used\n",
      "\n",
      "  UserWarning)\n"
     ]
    }
   ],
   "source": [
    "import graphlab as gl\n",
    "import pandas as pa"
   ]
  },
  {
   "cell_type": "code",
   "execution_count": 72,
   "metadata": {
    "collapsed": false
   },
   "outputs": [],
   "source": [
    "training_data = pa.read_csv(\"../bytecup2016data/invited_info_train.txt\", sep = \"\\t\")\n",
    "question_data = pa.read_csv(\"../bytecup2016data/question_info.txt\", sep = \"\\t\")\n"
   ]
  },
  {
   "cell_type": "code",
   "execution_count": 73,
   "metadata": {
    "collapsed": false
   },
   "outputs": [],
   "source": [
    "qList =  training_data['question_ID'].tolist()\n",
    "eList =  training_data['expert_ID'].tolist()\n",
    "labelList =  training_data['Answered_or_Not'].tolist()"
   ]
  },
  {
   "cell_type": "code",
   "execution_count": 74,
   "metadata": {
    "collapsed": true
   },
   "outputs": [],
   "source": [
    "all_data = {}\n",
    "all_data['user_id'] = eList\n",
    "all_data['item_id'] = qList\n",
    "all_data['rating'] = labelList"
   ]
  },
  {
   "cell_type": "code",
   "execution_count": 76,
   "metadata": {
    "collapsed": false,
    "scrolled": false
   },
   "outputs": [],
   "source": [
    "#item info\n",
    "'''\n",
    "---> column popularAnswers\n",
    "--->        number of total answers\n",
    "'''\n",
    "\n",
    "upvotes = []\n",
    "tot_ans = []\n",
    "top_q_ans = []\n",
    "\n",
    "rows_train = training_data.shape[0]\n",
    "\n",
    "for i in range(rows_train):\n",
    "    qid = training_data.ix[i][0]\n",
    "    qinfo_row = question_data.loc[question_data['question_ID1'] == qid]\n",
    "    #print type(qinfo_row)\n",
    "    #print qid ,qinfo_row\n",
    "    if not qinfo_row.empty:\n",
    "        upvotes.append(qinfo_row.iloc[0][4])\n",
    "        tot_ans.append(qinfo_row.iloc[0][5])\n",
    "        top_q_ans.append(qinfo_row.iloc[0][6])\n",
    "    \n",
    "    else:\n",
    "        upvotes.append(0)\n",
    "        tot_ans.append(0)\n",
    "        top_q_ans.append(0)"
   ]
  },
  {
   "cell_type": "code",
   "execution_count": 77,
   "metadata": {
    "collapsed": false
   },
   "outputs": [],
   "source": [
    "#print upvotes\n",
    "#print tot_ans\n",
    "#print top_q_ans"
   ]
  },
  {
   "cell_type": "code",
   "execution_count": 82,
   "metadata": {
    "collapsed": false
   },
   "outputs": [
    {
     "data": {
      "text/plain": [
       "\"\\n'upvotes': upvotes,\\n                              'tot_ans': tot_ans,\\n                              'top_q_ans': top_q_ans})\\n\\n\""
      ]
     },
     "execution_count": 82,
     "metadata": {},
     "output_type": "execute_result"
    }
   ],
   "source": [
    "sf = gl.SFrame({'user_id': eList,\n",
    "                       'item_id': qList,\n",
    "                       'rating': labelList})\n",
    "\n",
    "'''\n",
    "'upvotes': upvotes,\n",
    "                              'tot_ans': tot_ans,\n",
    "                              'top_q_ans': top_q_ans})\n",
    "\n",
    "'''"
   ]
  },
  {
   "cell_type": "code",
   "execution_count": 83,
   "metadata": {
    "collapsed": false,
    "scrolled": false
   },
   "outputs": [],
   "source": [
    "#------with item info\n",
    "item_info = gl.SFrame({'item_id':  qList,\n",
    "                       'numeric_feature' : top_q_ans})\n",
    "                                                                       \n",
    "#model_gl = gl.factorization_recommender.create(sf, target='rating',item_data=item_info, max_iterations=1000)"
   ]
  },
  {
   "cell_type": "code",
   "execution_count": 88,
   "metadata": {
    "collapsed": false,
    "scrolled": false
   },
   "outputs": [
    {
     "data": {
      "text/html": [
       "<pre>Recsys training: model = factorization_recommender</pre>"
      ],
      "text/plain": [
       "Recsys training: model = factorization_recommender"
      ]
     },
     "metadata": {},
     "output_type": "display_data"
    },
    {
     "data": {
      "text/html": [
       "<pre>Preparing data set.</pre>"
      ],
      "text/plain": [
       "Preparing data set."
      ]
     },
     "metadata": {},
     "output_type": "display_data"
    },
    {
     "data": {
      "text/html": [
       "<pre>    Data has 209426 observations with 25971 users and 7597 items.</pre>"
      ],
      "text/plain": [
       "    Data has 209426 observations with 25971 users and 7597 items."
      ]
     },
     "metadata": {},
     "output_type": "display_data"
    },
    {
     "data": {
      "text/html": [
       "<pre>    Data prepared in: 0.590909s</pre>"
      ],
      "text/plain": [
       "    Data prepared in: 0.590909s"
      ]
     },
     "metadata": {},
     "output_type": "display_data"
    },
    {
     "data": {
      "text/html": [
       "<pre>Training factorization_recommender for recommendations.</pre>"
      ],
      "text/plain": [
       "Training factorization_recommender for recommendations."
      ]
     },
     "metadata": {},
     "output_type": "display_data"
    },
    {
     "data": {
      "text/html": [
       "<pre>+--------------------------------+--------------------------------------------------+----------+</pre>"
      ],
      "text/plain": [
       "+--------------------------------+--------------------------------------------------+----------+"
      ]
     },
     "metadata": {},
     "output_type": "display_data"
    },
    {
     "data": {
      "text/html": [
       "<pre>| Parameter                      | Description                                      | Value    |</pre>"
      ],
      "text/plain": [
       "| Parameter                      | Description                                      | Value    |"
      ]
     },
     "metadata": {},
     "output_type": "display_data"
    },
    {
     "data": {
      "text/html": [
       "<pre>+--------------------------------+--------------------------------------------------+----------+</pre>"
      ],
      "text/plain": [
       "+--------------------------------+--------------------------------------------------+----------+"
      ]
     },
     "metadata": {},
     "output_type": "display_data"
    },
    {
     "data": {
      "text/html": [
       "<pre>| num_factors                    | Factor Dimension                                 | 8        |</pre>"
      ],
      "text/plain": [
       "| num_factors                    | Factor Dimension                                 | 8        |"
      ]
     },
     "metadata": {},
     "output_type": "display_data"
    },
    {
     "data": {
      "text/html": [
       "<pre>| regularization                 | L2 Regularization on Factors                     | 1e-08    |</pre>"
      ],
      "text/plain": [
       "| regularization                 | L2 Regularization on Factors                     | 1e-08    |"
      ]
     },
     "metadata": {},
     "output_type": "display_data"
    },
    {
     "data": {
      "text/html": [
       "<pre>| solver                         | Solver used for training                         | sgd      |</pre>"
      ],
      "text/plain": [
       "| solver                         | Solver used for training                         | sgd      |"
      ]
     },
     "metadata": {},
     "output_type": "display_data"
    },
    {
     "data": {
      "text/html": [
       "<pre>| linear_regularization          | L2 Regularization on Linear Coefficients         | 1e-10    |</pre>"
      ],
      "text/plain": [
       "| linear_regularization          | L2 Regularization on Linear Coefficients         | 1e-10    |"
      ]
     },
     "metadata": {},
     "output_type": "display_data"
    },
    {
     "data": {
      "text/html": [
       "<pre>| max_iterations                 | Maximum Number of Iterations                     | 500      |</pre>"
      ],
      "text/plain": [
       "| max_iterations                 | Maximum Number of Iterations                     | 500      |"
      ]
     },
     "metadata": {},
     "output_type": "display_data"
    },
    {
     "data": {
      "text/html": [
       "<pre>+--------------------------------+--------------------------------------------------+----------+</pre>"
      ],
      "text/plain": [
       "+--------------------------------+--------------------------------------------------+----------+"
      ]
     },
     "metadata": {},
     "output_type": "display_data"
    },
    {
     "data": {
      "text/html": [
       "<pre>  Optimizing model using SGD; tuning step size.</pre>"
      ],
      "text/plain": [
       "  Optimizing model using SGD; tuning step size."
      ]
     },
     "metadata": {},
     "output_type": "display_data"
    },
    {
     "data": {
      "text/html": [
       "<pre>  Using 26178 / 209426 points for tuning the step size.</pre>"
      ],
      "text/plain": [
       "  Using 26178 / 209426 points for tuning the step size."
      ]
     },
     "metadata": {},
     "output_type": "display_data"
    },
    {
     "data": {
      "text/html": [
       "<pre>+---------+-------------------+------------------------------------------+</pre>"
      ],
      "text/plain": [
       "+---------+-------------------+------------------------------------------+"
      ]
     },
     "metadata": {},
     "output_type": "display_data"
    },
    {
     "data": {
      "text/html": [
       "<pre>| Attempt | Initial Step Size | Estimated Objective Value                |</pre>"
      ],
      "text/plain": [
       "| Attempt | Initial Step Size | Estimated Objective Value                |"
      ]
     },
     "metadata": {},
     "output_type": "display_data"
    },
    {
     "data": {
      "text/html": [
       "<pre>+---------+-------------------+------------------------------------------+</pre>"
      ],
      "text/plain": [
       "+---------+-------------------+------------------------------------------+"
      ]
     },
     "metadata": {},
     "output_type": "display_data"
    },
    {
     "data": {
      "text/html": [
       "<pre>| 0       | 25                | Not Viable                               |</pre>"
      ],
      "text/plain": [
       "| 0       | 25                | Not Viable                               |"
      ]
     },
     "metadata": {},
     "output_type": "display_data"
    },
    {
     "data": {
      "text/html": [
       "<pre>| 1       | 6.25              | Not Viable                               |</pre>"
      ],
      "text/plain": [
       "| 1       | 6.25              | Not Viable                               |"
      ]
     },
     "metadata": {},
     "output_type": "display_data"
    },
    {
     "data": {
      "text/html": [
       "<pre>| 2       | 1.5625            | Not Viable                               |</pre>"
      ],
      "text/plain": [
       "| 2       | 1.5625            | Not Viable                               |"
      ]
     },
     "metadata": {},
     "output_type": "display_data"
    },
    {
     "data": {
      "text/html": [
       "<pre>| 3       | 0.390625          | 0.0240067                                |</pre>"
      ],
      "text/plain": [
       "| 3       | 0.390625          | 0.0240067                                |"
      ]
     },
     "metadata": {},
     "output_type": "display_data"
    },
    {
     "data": {
      "text/html": [
       "<pre>| 4       | 0.195312          | 0.0248054                                |</pre>"
      ],
      "text/plain": [
       "| 4       | 0.195312          | 0.0248054                                |"
      ]
     },
     "metadata": {},
     "output_type": "display_data"
    },
    {
     "data": {
      "text/html": [
       "<pre>| 5       | 0.0976562         | 0.0313545                                |</pre>"
      ],
      "text/plain": [
       "| 5       | 0.0976562         | 0.0313545                                |"
      ]
     },
     "metadata": {},
     "output_type": "display_data"
    },
    {
     "data": {
      "text/html": [
       "<pre>| 6       | 0.0488281         | 0.0420257                                |</pre>"
      ],
      "text/plain": [
       "| 6       | 0.0488281         | 0.0420257                                |"
      ]
     },
     "metadata": {},
     "output_type": "display_data"
    },
    {
     "data": {
      "text/html": [
       "<pre>+---------+-------------------+------------------------------------------+</pre>"
      ],
      "text/plain": [
       "+---------+-------------------+------------------------------------------+"
      ]
     },
     "metadata": {},
     "output_type": "display_data"
    },
    {
     "data": {
      "text/html": [
       "<pre>| Final   | 0.390625          | 0.0240067                                |</pre>"
      ],
      "text/plain": [
       "| Final   | 0.390625          | 0.0240067                                |"
      ]
     },
     "metadata": {},
     "output_type": "display_data"
    },
    {
     "data": {
      "text/html": [
       "<pre>+---------+-------------------+------------------------------------------+</pre>"
      ],
      "text/plain": [
       "+---------+-------------------+------------------------------------------+"
      ]
     },
     "metadata": {},
     "output_type": "display_data"
    },
    {
     "data": {
      "text/html": [
       "<pre>Starting Optimization.</pre>"
      ],
      "text/plain": [
       "Starting Optimization."
      ]
     },
     "metadata": {},
     "output_type": "display_data"
    },
    {
     "data": {
      "text/html": [
       "<pre>+---------+--------------+-------------------+-----------------------+-------------+</pre>"
      ],
      "text/plain": [
       "+---------+--------------+-------------------+-----------------------+-------------+"
      ]
     },
     "metadata": {},
     "output_type": "display_data"
    },
    {
     "data": {
      "text/html": [
       "<pre>| Iter.   | Elapsed Time | Approx. Objective | Approx. Training RMSE | Step Size   |</pre>"
      ],
      "text/plain": [
       "| Iter.   | Elapsed Time | Approx. Objective | Approx. Training RMSE | Step Size   |"
      ]
     },
     "metadata": {},
     "output_type": "display_data"
    },
    {
     "data": {
      "text/html": [
       "<pre>+---------+--------------+-------------------+-----------------------+-------------+</pre>"
      ],
      "text/plain": [
       "+---------+--------------+-------------------+-----------------------+-------------+"
      ]
     },
     "metadata": {},
     "output_type": "display_data"
    },
    {
     "data": {
      "text/html": [
       "<pre>| Initial | 74us         | 0.0992054         | 0.314969              |             |</pre>"
      ],
      "text/plain": [
       "| Initial | 74us         | 0.0992054         | 0.314969              |             |"
      ]
     },
     "metadata": {},
     "output_type": "display_data"
    },
    {
     "data": {
      "text/html": [
       "<pre>+---------+--------------+-------------------+-----------------------+-------------+</pre>"
      ],
      "text/plain": [
       "+---------+--------------+-------------------+-----------------------+-------------+"
      ]
     },
     "metadata": {},
     "output_type": "display_data"
    },
    {
     "data": {
      "text/html": [
       "<pre>| 1       | 153.709ms    | DIVERGED          | DIVERGED              | 0.390625    |</pre>"
      ],
      "text/plain": [
       "| 1       | 153.709ms    | DIVERGED          | DIVERGED              | 0.390625    |"
      ]
     },
     "metadata": {},
     "output_type": "display_data"
    },
    {
     "data": {
      "text/html": [
       "<pre>| RESET   | 191.426ms    | 0.099206          | 0.31497               |             |</pre>"
      ],
      "text/plain": [
       "| RESET   | 191.426ms    | 0.099206          | 0.31497               |             |"
      ]
     },
     "metadata": {},
     "output_type": "display_data"
    },
    {
     "data": {
      "text/html": [
       "<pre>| 1       | 282.296ms    | 0.100248          | 0.316602              | 0.195312    |</pre>"
      ],
      "text/plain": [
       "| 1       | 282.296ms    | 0.100248          | 0.316602              | 0.195312    |"
      ]
     },
     "metadata": {},
     "output_type": "display_data"
    },
    {
     "data": {
      "text/html": [
       "<pre>| 2       | 442.253ms    | 0.0744675         | 0.272881              | 0.116134    |</pre>"
      ],
      "text/plain": [
       "| 2       | 442.253ms    | 0.0744675         | 0.272881              | 0.116134    |"
      ]
     },
     "metadata": {},
     "output_type": "display_data"
    },
    {
     "data": {
      "text/html": [
       "<pre>| 3       | 588.129ms    | 0.0658981         | 0.256704              | 0.0856819   |</pre>"
      ],
      "text/plain": [
       "| 3       | 588.129ms    | 0.0658981         | 0.256704              | 0.0856819   |"
      ]
     },
     "metadata": {},
     "output_type": "display_data"
    },
    {
     "data": {
      "text/html": [
       "<pre>| 4       | 728.47ms     | 0.060719          | 0.246411              | 0.0580668   |</pre>"
      ],
      "text/plain": [
       "| 4       | 728.47ms     | 0.060719          | 0.246411              | 0.0580668   |"
      ]
     },
     "metadata": {},
     "output_type": "display_data"
    },
    {
     "data": {
      "text/html": [
       "<pre>| 5       | 876.846ms    | 0.0582285         | 0.241305              | 0.0491185   |</pre>"
      ],
      "text/plain": [
       "| 5       | 876.846ms    | 0.0582285         | 0.241305              | 0.0491185   |"
      ]
     },
     "metadata": {},
     "output_type": "display_data"
    },
    {
     "data": {
      "text/html": [
       "<pre>| 6       | 1.02s        | 0.0568317         | 0.238393              | 0.042841    |</pre>"
      ],
      "text/plain": [
       "| 6       | 1.02s        | 0.0568317         | 0.238393              | 0.042841    |"
      ]
     },
     "metadata": {},
     "output_type": "display_data"
    },
    {
     "data": {
      "text/html": [
       "<pre>| 9       | 1.30s        | 0.0541742         | 0.232752              | 0.0316075   |</pre>"
      ],
      "text/plain": [
       "| 9       | 1.30s        | 0.0541742         | 0.232752              | 0.0316075   |"
      ]
     },
     "metadata": {},
     "output_type": "display_data"
    },
    {
     "data": {
      "text/html": [
       "<pre>| 11      | 1.44s        | 0.0530601         | 0.230346              | 0.0271912   |</pre>"
      ],
      "text/plain": [
       "| 11      | 1.44s        | 0.0530601         | 0.230346              | 0.0271912   |"
      ]
     },
     "metadata": {},
     "output_type": "display_data"
    },
    {
     "data": {
      "text/html": [
       "<pre>| 19      | 2.22s        | 0.0494289         | 0.222321              | 0.0180471   |</pre>"
      ],
      "text/plain": [
       "| 19      | 2.22s        | 0.0494289         | 0.222321              | 0.0180471   |"
      ]
     },
     "metadata": {},
     "output_type": "display_data"
    },
    {
     "data": {
      "text/html": [
       "<pre>| 29      | 3.16s        | 0.0447436         | 0.211515              | 0.0131424   |</pre>"
      ],
      "text/plain": [
       "| 29      | 3.16s        | 0.0447436         | 0.211515              | 0.0131424   |"
      ]
     },
     "metadata": {},
     "output_type": "display_data"
    },
    {
     "data": {
      "text/html": [
       "<pre>| 39      | 3.95s        | 0.0404654         | 0.20114               | 0.0105238   |</pre>"
      ],
      "text/plain": [
       "| 39      | 3.95s        | 0.0404654         | 0.20114               | 0.0105238   |"
      ]
     },
     "metadata": {},
     "output_type": "display_data"
    },
    {
     "data": {
      "text/html": [
       "<pre>| 49      | 4.71s        | 0.0369191         | 0.192113              | 0.008868    |</pre>"
      ],
      "text/plain": [
       "| 49      | 4.71s        | 0.0369191         | 0.192113              | 0.008868    |"
      ]
     },
     "metadata": {},
     "output_type": "display_data"
    },
    {
     "data": {
      "text/html": [
       "<pre>| 51      | 4.87s        | 0.0362819         | 0.190446              | 0.00860587  |</pre>"
      ],
      "text/plain": [
       "| 51      | 4.87s        | 0.0362819         | 0.190446              | 0.00860587  |"
      ]
     },
     "metadata": {},
     "output_type": "display_data"
    },
    {
     "data": {
      "text/html": [
       "<pre>| 59      | 5.48s        | 0.0338614         | 0.183974              | 0.00771496  |</pre>"
      ],
      "text/plain": [
       "| 59      | 5.48s        | 0.0338614         | 0.183974              | 0.00771496  |"
      ]
     },
     "metadata": {},
     "output_type": "display_data"
    },
    {
     "data": {
      "text/html": [
       "<pre>| 69      | 6.46s        | 0.0311788         | 0.176524              | 0.00686018  |</pre>"
      ],
      "text/plain": [
       "| 69      | 6.46s        | 0.0311788         | 0.176524              | 0.00686018  |"
      ]
     },
     "metadata": {},
     "output_type": "display_data"
    },
    {
     "data": {
      "text/html": [
       "<pre>| 79      | 7.34s        | 0.0288624         | 0.169827              | 0.00619801  |</pre>"
      ],
      "text/plain": [
       "| 79      | 7.34s        | 0.0288624         | 0.169827              | 0.00619801  |"
      ]
     },
     "metadata": {},
     "output_type": "display_data"
    },
    {
     "data": {
      "text/html": [
       "<pre>| 89      | 8.11s        | 0.0268776         | 0.163871              | 0.005668    |</pre>"
      ],
      "text/plain": [
       "| 89      | 8.11s        | 0.0268776         | 0.163871              | 0.005668    |"
      ]
     },
     "metadata": {},
     "output_type": "display_data"
    },
    {
     "data": {
      "text/html": [
       "<pre>| 99      | 8.83s        | 0.0251873         | 0.158622              | 0.00523294  |</pre>"
      ],
      "text/plain": [
       "| 99      | 8.83s        | 0.0251873         | 0.158622              | 0.00523294  |"
      ]
     },
     "metadata": {},
     "output_type": "display_data"
    },
    {
     "data": {
      "text/html": [
       "<pre>| 101     | 9.00s        | 0.0248783         | 0.157643              | 0.00515503  |</pre>"
      ],
      "text/plain": [
       "| 101     | 9.00s        | 0.0248783         | 0.157643              | 0.00515503  |"
      ]
     },
     "metadata": {},
     "output_type": "display_data"
    },
    {
     "data": {
      "text/html": [
       "<pre>| 109     | 9.59s        | 0.02373           | 0.153951              | 0.00486858  |</pre>"
      ],
      "text/plain": [
       "| 109     | 9.59s        | 0.02373           | 0.153951              | 0.00486858  |"
      ]
     },
     "metadata": {},
     "output_type": "display_data"
    },
    {
     "data": {
      "text/html": [
       "<pre>| 119     | 10.45s       | 0.0224725         | 0.149804              | 0.0045584   |</pre>"
      ],
      "text/plain": [
       "| 119     | 10.45s       | 0.0224725         | 0.149804              | 0.0045584   |"
      ]
     },
     "metadata": {},
     "output_type": "display_data"
    },
    {
     "data": {
      "text/html": [
       "<pre>| 129     | 11.36s       | 0.0213734         | 0.146082              | 0.00429072  |</pre>"
      ],
      "text/plain": [
       "| 129     | 11.36s       | 0.0213734         | 0.146082              | 0.00429072  |"
      ]
     },
     "metadata": {},
     "output_type": "display_data"
    },
    {
     "data": {
      "text/html": [
       "<pre>| 139     | 12.50s       | 0.0204081         | 0.142734              | 0.00405706  |</pre>"
      ],
      "text/plain": [
       "| 139     | 12.50s       | 0.0204081         | 0.142734              | 0.00405706  |"
      ]
     },
     "metadata": {},
     "output_type": "display_data"
    },
    {
     "data": {
      "text/html": [
       "<pre>| 149     | 13.50s       | 0.0195554         | 0.139708              | 0.00385108  |</pre>"
      ],
      "text/plain": [
       "| 149     | 13.50s       | 0.0195554         | 0.139708              | 0.00385108  |"
      ]
     },
     "metadata": {},
     "output_type": "display_data"
    },
    {
     "data": {
      "text/html": [
       "<pre>| 159     | 14.35s       | 0.0187954         | 0.136955              | 0.00366796  |</pre>"
      ],
      "text/plain": [
       "| 159     | 14.35s       | 0.0187954         | 0.136955              | 0.00366796  |"
      ]
     },
     "metadata": {},
     "output_type": "display_data"
    },
    {
     "data": {
      "text/html": [
       "<pre>| 169     | 15.27s       | 0.0181134         | 0.134437              | 0.00350395  |</pre>"
      ],
      "text/plain": [
       "| 169     | 15.27s       | 0.0181134         | 0.134437              | 0.00350395  |"
      ]
     },
     "metadata": {},
     "output_type": "display_data"
    },
    {
     "data": {
      "text/html": [
       "<pre>| 179     | 16.19s       | 0.0175013         | 0.132135              | 0.00335608  |</pre>"
      ],
      "text/plain": [
       "| 179     | 16.19s       | 0.0175013         | 0.132135              | 0.00335608  |"
      ]
     },
     "metadata": {},
     "output_type": "display_data"
    },
    {
     "data": {
      "text/html": [
       "<pre>| 189     | 17.03s       | 0.0169472         | 0.130016              | 0.003222    |</pre>"
      ],
      "text/plain": [
       "| 189     | 17.03s       | 0.0169472         | 0.130016              | 0.003222    |"
      ]
     },
     "metadata": {},
     "output_type": "display_data"
    },
    {
     "data": {
      "text/html": [
       "<pre>| 199     | 17.76s       | 0.0164457         | 0.128068              | 0.00309979  |</pre>"
      ],
      "text/plain": [
       "| 199     | 17.76s       | 0.0164457         | 0.128068              | 0.00309979  |"
      ]
     },
     "metadata": {},
     "output_type": "display_data"
    },
    {
     "data": {
      "text/html": [
       "<pre>| 209     | 18.49s       | 0.0159891         | 0.126267              | 0.00298788  |</pre>"
      ],
      "text/plain": [
       "| 209     | 18.49s       | 0.0159891         | 0.126267              | 0.00298788  |"
      ]
     },
     "metadata": {},
     "output_type": "display_data"
    },
    {
     "data": {
      "text/html": [
       "<pre>| 219     | 19.28s       | 0.0155721         | 0.124601              | 0.00288496  |</pre>"
      ],
      "text/plain": [
       "| 219     | 19.28s       | 0.0155721         | 0.124601              | 0.00288496  |"
      ]
     },
     "metadata": {},
     "output_type": "display_data"
    },
    {
     "data": {
      "text/html": [
       "<pre>| 229     | 20.05s       | 0.0151912         | 0.123058              | 0.00278995  |</pre>"
      ],
      "text/plain": [
       "| 229     | 20.05s       | 0.0151912         | 0.123058              | 0.00278995  |"
      ]
     },
     "metadata": {},
     "output_type": "display_data"
    },
    {
     "data": {
      "text/html": [
       "<pre>| 239     | 20.83s       | 0.0148417         | 0.121626              | 0.00270193  |</pre>"
      ],
      "text/plain": [
       "| 239     | 20.83s       | 0.0148417         | 0.121626              | 0.00270193  |"
      ]
     },
     "metadata": {},
     "output_type": "display_data"
    },
    {
     "data": {
      "text/html": [
       "<pre>| 249     | 21.59s       | 0.0145191         | 0.120288              | 0.00262013  |</pre>"
      ],
      "text/plain": [
       "| 249     | 21.59s       | 0.0145191         | 0.120288              | 0.00262013  |"
      ]
     },
     "metadata": {},
     "output_type": "display_data"
    },
    {
     "data": {
      "text/html": [
       "<pre>| 259     | 22.32s       | 0.0142213         | 0.11904               | 0.00254389  |</pre>"
      ],
      "text/plain": [
       "| 259     | 22.32s       | 0.0142213         | 0.11904               | 0.00254389  |"
      ]
     },
     "metadata": {},
     "output_type": "display_data"
    },
    {
     "data": {
      "text/html": [
       "<pre>| 269     | 23.11s       | 0.0139456         | 0.117873              | 0.00247263  |</pre>"
      ],
      "text/plain": [
       "| 269     | 23.11s       | 0.0139456         | 0.117873              | 0.00247263  |"
      ]
     },
     "metadata": {},
     "output_type": "display_data"
    },
    {
     "data": {
      "text/html": [
       "<pre>| 279     | 23.90s       | 0.0136893         | 0.116777              | 0.00240585  |</pre>"
      ],
      "text/plain": [
       "| 279     | 23.90s       | 0.0136893         | 0.116777              | 0.00240585  |"
      ]
     },
     "metadata": {},
     "output_type": "display_data"
    },
    {
     "data": {
      "text/html": [
       "<pre>| 289     | 24.67s       | 0.0134501         | 0.115745              | 0.00234314  |</pre>"
      ],
      "text/plain": [
       "| 289     | 24.67s       | 0.0134501         | 0.115745              | 0.00234314  |"
      ]
     },
     "metadata": {},
     "output_type": "display_data"
    },
    {
     "data": {
      "text/html": [
       "<pre>| 299     | 25.40s       | 0.0132271         | 0.114774              | 0.00228412  |</pre>"
      ],
      "text/plain": [
       "| 299     | 25.40s       | 0.0132271         | 0.114774              | 0.00228412  |"
      ]
     },
     "metadata": {},
     "output_type": "display_data"
    },
    {
     "data": {
      "text/html": [
       "<pre>| 309     | 26.15s       | 0.0130188         | 0.11386               | 0.00222845  |</pre>"
      ],
      "text/plain": [
       "| 309     | 26.15s       | 0.0130188         | 0.11386               | 0.00222845  |"
      ]
     },
     "metadata": {},
     "output_type": "display_data"
    },
    {
     "data": {
      "text/html": [
       "<pre>| 319     | 26.88s       | 0.0128231         | 0.112994              | 0.00217585  |</pre>"
      ],
      "text/plain": [
       "| 319     | 26.88s       | 0.0128231         | 0.112994              | 0.00217585  |"
      ]
     },
     "metadata": {},
     "output_type": "display_data"
    },
    {
     "data": {
      "text/html": [
       "<pre>| 329     | 28.29s       | 0.012639          | 0.112173              | 0.00212606  |</pre>"
      ],
      "text/plain": [
       "| 329     | 28.29s       | 0.012639          | 0.112173              | 0.00212606  |"
      ]
     },
     "metadata": {},
     "output_type": "display_data"
    },
    {
     "data": {
      "text/html": [
       "<pre>| 339     | 30.25s       | 0.0124657         | 0.111395              | 0.00207885  |</pre>"
      ],
      "text/plain": [
       "| 339     | 30.25s       | 0.0124657         | 0.111395              | 0.00207885  |"
      ]
     },
     "metadata": {},
     "output_type": "display_data"
    },
    {
     "data": {
      "text/html": [
       "<pre>| 349     | 32.40s       | 0.0123025         | 0.110657              | 0.00203401  |</pre>"
      ],
      "text/plain": [
       "| 349     | 32.40s       | 0.0123025         | 0.110657              | 0.00203401  |"
      ]
     },
     "metadata": {},
     "output_type": "display_data"
    },
    {
     "data": {
      "text/html": [
       "<pre>| 359     | 34.36s       | 0.0121471         | 0.109951              | 0.00199137  |</pre>"
      ],
      "text/plain": [
       "| 359     | 34.36s       | 0.0121471         | 0.109951              | 0.00199137  |"
      ]
     },
     "metadata": {},
     "output_type": "display_data"
    },
    {
     "data": {
      "text/html": [
       "<pre>| 369     | 35.40s       | 0.0120012         | 0.109282              | 0.00195076  |</pre>"
      ],
      "text/plain": [
       "| 369     | 35.40s       | 0.0120012         | 0.109282              | 0.00195076  |"
      ]
     },
     "metadata": {},
     "output_type": "display_data"
    },
    {
     "data": {
      "text/html": [
       "<pre>| 379     | 36.43s       | 0.0118627         | 0.108644              | 0.00191202  |</pre>"
      ],
      "text/plain": [
       "| 379     | 36.43s       | 0.0118627         | 0.108644              | 0.00191202  |"
      ]
     },
     "metadata": {},
     "output_type": "display_data"
    },
    {
     "data": {
      "text/html": [
       "<pre>| 389     | 37.45s       | 0.0117308         | 0.108033              | 0.00187504  |</pre>"
      ],
      "text/plain": [
       "| 389     | 37.45s       | 0.0117308         | 0.108033              | 0.00187504  |"
      ]
     },
     "metadata": {},
     "output_type": "display_data"
    },
    {
     "data": {
      "text/html": [
       "<pre>| 399     | 38.22s       | 0.0116059         | 0.107451              | 0.00183968  |</pre>"
      ],
      "text/plain": [
       "| 399     | 38.22s       | 0.0116059         | 0.107451              | 0.00183968  |"
      ]
     },
     "metadata": {},
     "output_type": "display_data"
    },
    {
     "data": {
      "text/html": [
       "<pre>| 409     | 39.11s       | 0.0114862         | 0.10689               | 0.00180584  |</pre>"
      ],
      "text/plain": [
       "| 409     | 39.11s       | 0.0114862         | 0.10689               | 0.00180584  |"
      ]
     },
     "metadata": {},
     "output_type": "display_data"
    },
    {
     "data": {
      "text/html": [
       "<pre>| 419     | 39.83s       | 0.0113727         | 0.106356              | 0.00177342  |</pre>"
      ],
      "text/plain": [
       "| 419     | 39.83s       | 0.0113727         | 0.106356              | 0.00177342  |"
      ]
     },
     "metadata": {},
     "output_type": "display_data"
    },
    {
     "data": {
      "text/html": [
       "<pre>| 429     | 40.55s       | 0.0112645         | 0.105844              | 0.00174233  |</pre>"
      ],
      "text/plain": [
       "| 429     | 40.55s       | 0.0112645         | 0.105844              | 0.00174233  |"
      ]
     },
     "metadata": {},
     "output_type": "display_data"
    },
    {
     "data": {
      "text/html": [
       "<pre>| 439     | 41.33s       | 0.011161          | 0.105351              | 0.00171247  |</pre>"
      ],
      "text/plain": [
       "| 439     | 41.33s       | 0.011161          | 0.105351              | 0.00171247  |"
      ]
     },
     "metadata": {},
     "output_type": "display_data"
    },
    {
     "data": {
      "text/html": [
       "<pre>| 449     | 42.09s       | 0.011062          | 0.104878              | 0.00168379  |</pre>"
      ],
      "text/plain": [
       "| 449     | 42.09s       | 0.011062          | 0.104878              | 0.00168379  |"
      ]
     },
     "metadata": {},
     "output_type": "display_data"
    },
    {
     "data": {
      "text/html": [
       "<pre>| 459     | 42.81s       | 0.0109674         | 0.104424              | 0.0016562   |</pre>"
      ],
      "text/plain": [
       "| 459     | 42.81s       | 0.0109674         | 0.104424              | 0.0016562   |"
      ]
     },
     "metadata": {},
     "output_type": "display_data"
    },
    {
     "data": {
      "text/html": [
       "<pre>| 469     | 43.55s       | 0.0108771         | 0.103989              | 0.00162964  |</pre>"
      ],
      "text/plain": [
       "| 469     | 43.55s       | 0.0108771         | 0.103989              | 0.00162964  |"
      ]
     },
     "metadata": {},
     "output_type": "display_data"
    },
    {
     "data": {
      "text/html": [
       "<pre>| 479     | 44.35s       | 0.0107903         | 0.103569              | 0.00160406  |</pre>"
      ],
      "text/plain": [
       "| 479     | 44.35s       | 0.0107903         | 0.103569              | 0.00160406  |"
      ]
     },
     "metadata": {},
     "output_type": "display_data"
    },
    {
     "data": {
      "text/html": [
       "<pre>| 489     | 45.15s       | 0.0107067         | 0.103163              | 0.0015794   |</pre>"
      ],
      "text/plain": [
       "| 489     | 45.15s       | 0.0107067         | 0.103163              | 0.0015794   |"
      ]
     },
     "metadata": {},
     "output_type": "display_data"
    },
    {
     "data": {
      "text/html": [
       "<pre>| 499     | 46.43s       | 0.0106269         | 0.102773              | 0.0015556   |</pre>"
      ],
      "text/plain": [
       "| 499     | 46.43s       | 0.0106269         | 0.102773              | 0.0015556   |"
      ]
     },
     "metadata": {},
     "output_type": "display_data"
    },
    {
     "data": {
      "text/html": [
       "<pre>+---------+--------------+-------------------+-----------------------+-------------+</pre>"
      ],
      "text/plain": [
       "+---------+--------------+-------------------+-----------------------+-------------+"
      ]
     },
     "metadata": {},
     "output_type": "display_data"
    },
    {
     "data": {
      "text/html": [
       "<pre>Optimization Complete: Maximum number of passes through the data reached.</pre>"
      ],
      "text/plain": [
       "Optimization Complete: Maximum number of passes through the data reached."
      ]
     },
     "metadata": {},
     "output_type": "display_data"
    },
    {
     "data": {
      "text/html": [
       "<pre>Computing final objective value and training RMSE.</pre>"
      ],
      "text/plain": [
       "Computing final objective value and training RMSE."
      ]
     },
     "metadata": {},
     "output_type": "display_data"
    },
    {
     "data": {
      "text/html": [
       "<pre>       Final objective value: 0.0104979</pre>"
      ],
      "text/plain": [
       "       Final objective value: 0.0104979"
      ]
     },
     "metadata": {},
     "output_type": "display_data"
    },
    {
     "data": {
      "text/html": [
       "<pre>       Final training RMSE: 0.102144</pre>"
      ],
      "text/plain": [
       "       Final training RMSE: 0.102144"
      ]
     },
     "metadata": {},
     "output_type": "display_data"
    },
    {
     "name": "stdout",
     "output_type": "stream",
     "text": [
      "MEASUREMENT ON TEST\n"
     ]
    },
    {
     "data": {
      "text/html": [
       "<pre>recommendations finished on 1000/11920 queries. users per second: 9124.25</pre>"
      ],
      "text/plain": [
       "recommendations finished on 1000/11920 queries. users per second: 9124.25"
      ]
     },
     "metadata": {},
     "output_type": "display_data"
    },
    {
     "data": {
      "text/html": [
       "<pre>recommendations finished on 2000/11920 queries. users per second: 9626.82</pre>"
      ],
      "text/plain": [
       "recommendations finished on 2000/11920 queries. users per second: 9626.82"
      ]
     },
     "metadata": {},
     "output_type": "display_data"
    },
    {
     "data": {
      "text/html": [
       "<pre>recommendations finished on 3000/11920 queries. users per second: 8478.29</pre>"
      ],
      "text/plain": [
       "recommendations finished on 3000/11920 queries. users per second: 8478.29"
      ]
     },
     "metadata": {},
     "output_type": "display_data"
    },
    {
     "data": {
      "text/html": [
       "<pre>recommendations finished on 4000/11920 queries. users per second: 8685.08</pre>"
      ],
      "text/plain": [
       "recommendations finished on 4000/11920 queries. users per second: 8685.08"
      ]
     },
     "metadata": {},
     "output_type": "display_data"
    },
    {
     "data": {
      "text/html": [
       "<pre>recommendations finished on 5000/11920 queries. users per second: 9299.11</pre>"
      ],
      "text/plain": [
       "recommendations finished on 5000/11920 queries. users per second: 9299.11"
      ]
     },
     "metadata": {},
     "output_type": "display_data"
    },
    {
     "data": {
      "text/html": [
       "<pre>recommendations finished on 6000/11920 queries. users per second: 8713.14</pre>"
      ],
      "text/plain": [
       "recommendations finished on 6000/11920 queries. users per second: 8713.14"
      ]
     },
     "metadata": {},
     "output_type": "display_data"
    },
    {
     "data": {
      "text/html": [
       "<pre>recommendations finished on 7000/11920 queries. users per second: 8274.45</pre>"
      ],
      "text/plain": [
       "recommendations finished on 7000/11920 queries. users per second: 8274.45"
      ]
     },
     "metadata": {},
     "output_type": "display_data"
    },
    {
     "data": {
      "text/html": [
       "<pre>recommendations finished on 8000/11920 queries. users per second: 8103.83</pre>"
      ],
      "text/plain": [
       "recommendations finished on 8000/11920 queries. users per second: 8103.83"
      ]
     },
     "metadata": {},
     "output_type": "display_data"
    },
    {
     "data": {
      "text/html": [
       "<pre>recommendations finished on 9000/11920 queries. users per second: 7861.53</pre>"
      ],
      "text/plain": [
       "recommendations finished on 9000/11920 queries. users per second: 7861.53"
      ]
     },
     "metadata": {},
     "output_type": "display_data"
    },
    {
     "data": {
      "text/html": [
       "<pre>recommendations finished on 10000/11920 queries. users per second: 8023.18</pre>"
      ],
      "text/plain": [
       "recommendations finished on 10000/11920 queries. users per second: 8023.18"
      ]
     },
     "metadata": {},
     "output_type": "display_data"
    },
    {
     "data": {
      "text/html": [
       "<pre>recommendations finished on 11000/11920 queries. users per second: 8115.02</pre>"
      ],
      "text/plain": [
       "recommendations finished on 11000/11920 queries. users per second: 8115.02"
      ]
     },
     "metadata": {},
     "output_type": "display_data"
    },
    {
     "name": "stdout",
     "output_type": "stream",
     "text": [
      "\n",
      "Precision and recall summary statistics by cutoff\n",
      "+--------+-------------------+-------------------+\n",
      "| cutoff |   mean_precision  |    mean_recall    |\n",
      "+--------+-------------------+-------------------+\n",
      "|   1    | 0.000419463087248 | 2.36509389194e-05 |\n",
      "|   2    | 0.000419463087248 | 9.91724531993e-05 |\n",
      "|   3    | 0.000307606263982 | 0.000106163504653 |\n",
      "|   4    | 0.000293624161074 | 0.000169082967741 |\n",
      "|   5    | 0.000285234899329 | 0.000218655878052 |\n",
      "|   6    | 0.000307606263982 | 0.000273219370115 |\n",
      "|   7    | 0.000287631831256 | 0.000283406330806 |\n",
      "|   8    | 0.000272651006711 | 0.000353316845347 |\n",
      "|   9    | 0.000279642058166 | 0.000421829149598 |\n",
      "|   10   | 0.000276845637584 | 0.000477058456085 |\n",
      "+--------+-------------------+-------------------+\n",
      "[10 rows x 3 columns]\n",
      "\n",
      "('\\nOverall RMSE: ', 0.31569899445764543)\n",
      "\n",
      "Per User RMSE (best)\n",
      "+-------------------------------+-------+-------------------+\n",
      "|            user_id            | count |        rmse       |\n",
      "+-------------------------------+-------+-------------------+\n",
      "| 440c235ae8977f42ff2db5d515... |   1   | 2.85553192327e-06 |\n",
      "+-------------------------------+-------+-------------------+\n",
      "[1 rows x 3 columns]\n",
      "\n",
      "\n",
      "Per User RMSE (worst)\n",
      "+-------------------------------+-------+---------------+\n",
      "|            user_id            | count |      rmse     |\n",
      "+-------------------------------+-------+---------------+\n",
      "| 3ccfaae72731dd43c20aefaf88... |   1   | 1.75581987212 |\n",
      "+-------------------------------+-------+---------------+\n",
      "[1 rows x 3 columns]\n",
      "\n",
      "\n",
      "Per Item RMSE (best)\n",
      "+-------------------------------+-------+---------------+\n",
      "|            item_id            | count |      rmse     |\n",
      "+-------------------------------+-------+---------------+\n",
      "| 4da3be9f0d7fb4e30eb62d3f28... |   1   | 5.6396219e-05 |\n",
      "+-------------------------------+-------+---------------+\n",
      "[1 rows x 3 columns]\n",
      "\n",
      "\n",
      "Per Item RMSE (worst)\n",
      "+-------------------------------+-------+---------------+\n",
      "|            item_id            | count |      rmse     |\n",
      "+-------------------------------+-------+---------------+\n",
      "| ddb1d7e142872c14bd0f275b96... |   1   | 1.88222335289 |\n",
      "+-------------------------------+-------+---------------+\n",
      "[1 rows x 3 columns]\n",
      "\n"
     ]
    }
   ],
   "source": [
    "#-------- make prediction without any side features, only latent features \n",
    "train, test = gl.recommender.util.random_split_by_user(sf, max_num_users= 20000, item_test_proportion=0.2, random_seed=0)\n",
    "\n",
    "m = gl.factorization_recommender.create(train, target='rating',item_data=None, max_iterations=500)\n",
    "print 'MEASUREMENT ON TEST'\n",
    "evals = m.evaluate(test)\n"
   ]
  },
  {
   "cell_type": "code",
   "execution_count": null,
   "metadata": {
    "collapsed": false,
    "scrolled": false
   },
   "outputs": [
    {
     "data": {
      "text/html": [
       "<pre>Recsys training: model = factorization_recommender</pre>"
      ],
      "text/plain": [
       "Recsys training: model = factorization_recommender"
      ]
     },
     "metadata": {},
     "output_type": "display_data"
    },
    {
     "data": {
      "text/html": [
       "<pre>Preparing data set.</pre>"
      ],
      "text/plain": [
       "Preparing data set."
      ]
     },
     "metadata": {},
     "output_type": "display_data"
    },
    {
     "data": {
      "text/html": [
       "<pre>    Data has 209215 observations with 26004 users and 7708 items.</pre>"
      ],
      "text/plain": [
       "    Data has 209215 observations with 26004 users and 7708 items."
      ]
     },
     "metadata": {},
     "output_type": "display_data"
    },
    {
     "data": {
      "text/html": [
       "<pre>    Data prepared in: 0.68936s</pre>"
      ],
      "text/plain": [
       "    Data prepared in: 0.68936s"
      ]
     },
     "metadata": {},
     "output_type": "display_data"
    },
    {
     "data": {
      "text/html": [
       "<pre>Training factorization_recommender for recommendations.</pre>"
      ],
      "text/plain": [
       "Training factorization_recommender for recommendations."
      ]
     },
     "metadata": {},
     "output_type": "display_data"
    },
    {
     "data": {
      "text/html": [
       "<pre>+--------------------------------+--------------------------------------------------+----------+</pre>"
      ],
      "text/plain": [
       "+--------------------------------+--------------------------------------------------+----------+"
      ]
     },
     "metadata": {},
     "output_type": "display_data"
    },
    {
     "data": {
      "text/html": [
       "<pre>| Parameter                      | Description                                      | Value    |</pre>"
      ],
      "text/plain": [
       "| Parameter                      | Description                                      | Value    |"
      ]
     },
     "metadata": {},
     "output_type": "display_data"
    },
    {
     "data": {
      "text/html": [
       "<pre>+--------------------------------+--------------------------------------------------+----------+</pre>"
      ],
      "text/plain": [
       "+--------------------------------+--------------------------------------------------+----------+"
      ]
     },
     "metadata": {},
     "output_type": "display_data"
    },
    {
     "data": {
      "text/html": [
       "<pre>| num_factors                    | Factor Dimension                                 | 8        |</pre>"
      ],
      "text/plain": [
       "| num_factors                    | Factor Dimension                                 | 8        |"
      ]
     },
     "metadata": {},
     "output_type": "display_data"
    },
    {
     "data": {
      "text/html": [
       "<pre>| regularization                 | L2 Regularization on Factors                     | 1e-08    |</pre>"
      ],
      "text/plain": [
       "| regularization                 | L2 Regularization on Factors                     | 1e-08    |"
      ]
     },
     "metadata": {},
     "output_type": "display_data"
    },
    {
     "data": {
      "text/html": [
       "<pre>| solver                         | Solver used for training                         | adagrad  |</pre>"
      ],
      "text/plain": [
       "| solver                         | Solver used for training                         | adagrad  |"
      ]
     },
     "metadata": {},
     "output_type": "display_data"
    },
    {
     "data": {
      "text/html": [
       "<pre>| linear_regularization          | L2 Regularization on Linear Coefficients         | 1e-10    |</pre>"
      ],
      "text/plain": [
       "| linear_regularization          | L2 Regularization on Linear Coefficients         | 1e-10    |"
      ]
     },
     "metadata": {},
     "output_type": "display_data"
    },
    {
     "data": {
      "text/html": [
       "<pre>| side_data_factorization        | Assign Factors for Side Data                     | True     |</pre>"
      ],
      "text/plain": [
       "| side_data_factorization        | Assign Factors for Side Data                     | True     |"
      ]
     },
     "metadata": {},
     "output_type": "display_data"
    },
    {
     "data": {
      "text/html": [
       "<pre>| max_iterations                 | Maximum Number of Iterations                     | 1000     |</pre>"
      ],
      "text/plain": [
       "| max_iterations                 | Maximum Number of Iterations                     | 1000     |"
      ]
     },
     "metadata": {},
     "output_type": "display_data"
    },
    {
     "data": {
      "text/html": [
       "<pre>+--------------------------------+--------------------------------------------------+----------+</pre>"
      ],
      "text/plain": [
       "+--------------------------------+--------------------------------------------------+----------+"
      ]
     },
     "metadata": {},
     "output_type": "display_data"
    },
    {
     "data": {
      "text/html": [
       "<pre>  Optimizing model using SGD; tuning step size.</pre>"
      ],
      "text/plain": [
       "  Optimizing model using SGD; tuning step size."
      ]
     },
     "metadata": {},
     "output_type": "display_data"
    },
    {
     "data": {
      "text/html": [
       "<pre>  Using 26151 / 209215 points for tuning the step size.</pre>"
      ],
      "text/plain": [
       "  Using 26151 / 209215 points for tuning the step size."
      ]
     },
     "metadata": {},
     "output_type": "display_data"
    },
    {
     "data": {
      "text/html": [
       "<pre>+---------+-------------------+------------------------------------------+</pre>"
      ],
      "text/plain": [
       "+---------+-------------------+------------------------------------------+"
      ]
     },
     "metadata": {},
     "output_type": "display_data"
    },
    {
     "data": {
      "text/html": [
       "<pre>| Attempt | Initial Step Size | Estimated Objective Value                |</pre>"
      ],
      "text/plain": [
       "| Attempt | Initial Step Size | Estimated Objective Value                |"
      ]
     },
     "metadata": {},
     "output_type": "display_data"
    },
    {
     "data": {
      "text/html": [
       "<pre>+---------+-------------------+------------------------------------------+</pre>"
      ],
      "text/plain": [
       "+---------+-------------------+------------------------------------------+"
      ]
     },
     "metadata": {},
     "output_type": "display_data"
    },
    {
     "data": {
      "text/html": [
       "<pre>| 0       | 16.6667           | Not Viable                               |</pre>"
      ],
      "text/plain": [
       "| 0       | 16.6667           | Not Viable                               |"
      ]
     },
     "metadata": {},
     "output_type": "display_data"
    },
    {
     "data": {
      "text/html": [
       "<pre>| 1       | 4.16667           | Not Viable                               |</pre>"
      ],
      "text/plain": [
       "| 1       | 4.16667           | Not Viable                               |"
      ]
     },
     "metadata": {},
     "output_type": "display_data"
    },
    {
     "data": {
      "text/html": [
       "<pre>| 2       | 1.04167           | Not Viable                               |</pre>"
      ],
      "text/plain": [
       "| 2       | 1.04167           | Not Viable                               |"
      ]
     },
     "metadata": {},
     "output_type": "display_data"
    },
    {
     "data": {
      "text/html": [
       "<pre>| 3       | 0.260417          | Not Viable                               |</pre>"
      ],
      "text/plain": [
       "| 3       | 0.260417          | Not Viable                               |"
      ]
     },
     "metadata": {},
     "output_type": "display_data"
    },
    {
     "data": {
      "text/html": [
       "<pre>| 4       | 0.0651042         | No Decrease (0.626224 >= 0.0989859)      |</pre>"
      ],
      "text/plain": [
       "| 4       | 0.0651042         | No Decrease (0.626224 >= 0.0989859)      |"
      ]
     },
     "metadata": {},
     "output_type": "display_data"
    },
    {
     "data": {
      "text/html": [
       "<pre>| 5       | 0.016276          | 0.0633742                                |</pre>"
      ],
      "text/plain": [
       "| 5       | 0.016276          | 0.0633742                                |"
      ]
     },
     "metadata": {},
     "output_type": "display_data"
    },
    {
     "data": {
      "text/html": [
       "<pre>| 6       | 0.00813802        | 0.0791805                                |</pre>"
      ],
      "text/plain": [
       "| 6       | 0.00813802        | 0.0791805                                |"
      ]
     },
     "metadata": {},
     "output_type": "display_data"
    },
    {
     "data": {
      "text/html": [
       "<pre>| 7       | 0.00406901        | 0.0877402                                |</pre>"
      ],
      "text/plain": [
       "| 7       | 0.00406901        | 0.0877402                                |"
      ]
     },
     "metadata": {},
     "output_type": "display_data"
    },
    {
     "data": {
      "text/html": [
       "<pre>| 8       | 0.00203451        | 0.092854                                 |</pre>"
      ],
      "text/plain": [
       "| 8       | 0.00203451        | 0.092854                                 |"
      ]
     },
     "metadata": {},
     "output_type": "display_data"
    },
    {
     "data": {
      "text/html": [
       "<pre>+---------+-------------------+------------------------------------------+</pre>"
      ],
      "text/plain": [
       "+---------+-------------------+------------------------------------------+"
      ]
     },
     "metadata": {},
     "output_type": "display_data"
    },
    {
     "data": {
      "text/html": [
       "<pre>| Final   | 0.016276          | 0.0633742                                |</pre>"
      ],
      "text/plain": [
       "| Final   | 0.016276          | 0.0633742                                |"
      ]
     },
     "metadata": {},
     "output_type": "display_data"
    },
    {
     "data": {
      "text/html": [
       "<pre>+---------+-------------------+------------------------------------------+</pre>"
      ],
      "text/plain": [
       "+---------+-------------------+------------------------------------------+"
      ]
     },
     "metadata": {},
     "output_type": "display_data"
    },
    {
     "data": {
      "text/html": [
       "<pre>Starting Optimization.</pre>"
      ],
      "text/plain": [
       "Starting Optimization."
      ]
     },
     "metadata": {},
     "output_type": "display_data"
    },
    {
     "data": {
      "text/html": [
       "<pre>+---------+--------------+-------------------+-----------------------+-------------+</pre>"
      ],
      "text/plain": [
       "+---------+--------------+-------------------+-----------------------+-------------+"
      ]
     },
     "metadata": {},
     "output_type": "display_data"
    },
    {
     "data": {
      "text/html": [
       "<pre>| Iter.   | Elapsed Time | Approx. Objective | Approx. Training RMSE | Step Size   |</pre>"
      ],
      "text/plain": [
       "| Iter.   | Elapsed Time | Approx. Objective | Approx. Training RMSE | Step Size   |"
      ]
     },
     "metadata": {},
     "output_type": "display_data"
    },
    {
     "data": {
      "text/html": [
       "<pre>+---------+--------------+-------------------+-----------------------+-------------+</pre>"
      ],
      "text/plain": [
       "+---------+--------------+-------------------+-----------------------+-------------+"
      ]
     },
     "metadata": {},
     "output_type": "display_data"
    },
    {
     "data": {
      "text/html": [
       "<pre>| Initial | 76us         | 0.0984585         | 0.313781              |             |</pre>"
      ],
      "text/plain": [
       "| Initial | 76us         | 0.0984585         | 0.313781              |             |"
      ]
     },
     "metadata": {},
     "output_type": "display_data"
    },
    {
     "data": {
      "text/html": [
       "<pre>+---------+--------------+-------------------+-----------------------+-------------+</pre>"
      ],
      "text/plain": [
       "+---------+--------------+-------------------+-----------------------+-------------+"
      ]
     },
     "metadata": {},
     "output_type": "display_data"
    },
    {
     "data": {
      "text/html": [
       "<pre>| 1       | 165.173ms    | 0.0895107         | 0.299179              | 0.016276    |</pre>"
      ],
      "text/plain": [
       "| 1       | 165.173ms    | 0.0895107         | 0.299179              | 0.016276    |"
      ]
     },
     "metadata": {},
     "output_type": "display_data"
    },
    {
     "data": {
      "text/html": [
       "<pre>| 2       | 293.675ms    | 0.0770992         | 0.277662              | 0.016276    |</pre>"
      ],
      "text/plain": [
       "| 2       | 293.675ms    | 0.0770992         | 0.277662              | 0.016276    |"
      ]
     },
     "metadata": {},
     "output_type": "display_data"
    },
    {
     "data": {
      "text/html": [
       "<pre>| 3       | 431.979ms    | 0.0742024         | 0.272394              | 0.016276    |</pre>"
      ],
      "text/plain": [
       "| 3       | 431.979ms    | 0.0742024         | 0.272394              | 0.016276    |"
      ]
     },
     "metadata": {},
     "output_type": "display_data"
    },
    {
     "data": {
      "text/html": [
       "<pre>| 4       | 586.064ms    | 0.0722758         | 0.268834              | 0.016276    |</pre>"
      ],
      "text/plain": [
       "| 4       | 586.064ms    | 0.0722758         | 0.268834              | 0.016276    |"
      ]
     },
     "metadata": {},
     "output_type": "display_data"
    },
    {
     "data": {
      "text/html": [
       "<pre>| 5       | 692.7ms      | 0.0691891         | 0.26303               | 0.016276    |</pre>"
      ],
      "text/plain": [
       "| 5       | 692.7ms      | 0.0691891         | 0.26303               | 0.016276    |"
      ]
     },
     "metadata": {},
     "output_type": "display_data"
    },
    {
     "data": {
      "text/html": [
       "<pre>| 6       | 826.716ms    | 0.0659313         | 0.256761              | 0.016276    |</pre>"
      ],
      "text/plain": [
       "| 6       | 826.716ms    | 0.0659313         | 0.256761              | 0.016276    |"
      ]
     },
     "metadata": {},
     "output_type": "display_data"
    },
    {
     "data": {
      "text/html": [
       "<pre>| 10      | 1.35s        | 0.0584639         | 0.241782              | 0.016276    |</pre>"
      ],
      "text/plain": [
       "| 10      | 1.35s        | 0.0584639         | 0.241782              | 0.016276    |"
      ]
     },
     "metadata": {},
     "output_type": "display_data"
    },
    {
     "data": {
      "text/html": [
       "<pre>| 11      | 1.48s        | 0.0575268         | 0.239836              | 0.016276    |</pre>"
      ],
      "text/plain": [
       "| 11      | 1.48s        | 0.0575268         | 0.239836              | 0.016276    |"
      ]
     },
     "metadata": {},
     "output_type": "display_data"
    },
    {
     "data": {
      "text/html": [
       "<pre>| 20      | 2.46s        | 0.0537369         | 0.231799              | 0.016276    |</pre>"
      ],
      "text/plain": [
       "| 20      | 2.46s        | 0.0537369         | 0.231799              | 0.016276    |"
      ]
     },
     "metadata": {},
     "output_type": "display_data"
    },
    {
     "data": {
      "text/html": [
       "<pre>| 30      | 3.51s        | 0.0543742         | 0.233169              | 0.016276    |</pre>"
      ],
      "text/plain": [
       "| 30      | 3.51s        | 0.0543742         | 0.233169              | 0.016276    |"
      ]
     },
     "metadata": {},
     "output_type": "display_data"
    },
    {
     "data": {
      "text/html": [
       "<pre>| 40      | 4.65s        | 0.0570144         | 0.238764              | 0.016276    |</pre>"
      ],
      "text/plain": [
       "| 40      | 4.65s        | 0.0570144         | 0.238764              | 0.016276    |"
      ]
     },
     "metadata": {},
     "output_type": "display_data"
    },
    {
     "data": {
      "text/html": [
       "<pre>| 50      | 5.78s        | 0.0577069         | 0.240209              | 0.016276    |</pre>"
      ],
      "text/plain": [
       "| 50      | 5.78s        | 0.0577069         | 0.240209              | 0.016276    |"
      ]
     },
     "metadata": {},
     "output_type": "display_data"
    },
    {
     "data": {
      "text/html": [
       "<pre>| 51      | 5.92s        | 0.057789          | 0.24038               | 0.016276    |</pre>"
      ],
      "text/plain": [
       "| 51      | 5.92s        | 0.057789          | 0.24038               | 0.016276    |"
      ]
     },
     "metadata": {},
     "output_type": "display_data"
    },
    {
     "data": {
      "text/html": [
       "<pre>| 60      | 6.94s        | 0.0577755         | 0.240352              | 0.016276    |</pre>"
      ],
      "text/plain": [
       "| 60      | 6.94s        | 0.0577755         | 0.240352              | 0.016276    |"
      ]
     },
     "metadata": {},
     "output_type": "display_data"
    },
    {
     "data": {
      "text/html": [
       "<pre>| 70      | 8.02s        | 0.0565463         | 0.23778               | 0.016276    |</pre>"
      ],
      "text/plain": [
       "| 70      | 8.02s        | 0.0565463         | 0.23778               | 0.016276    |"
      ]
     },
     "metadata": {},
     "output_type": "display_data"
    },
    {
     "data": {
      "text/html": [
       "<pre>| 80      | 9.48s        | 0.055781          | 0.236165              | 0.016276    |</pre>"
      ],
      "text/plain": [
       "| 80      | 9.48s        | 0.055781          | 0.236165              | 0.016276    |"
      ]
     },
     "metadata": {},
     "output_type": "display_data"
    },
    {
     "data": {
      "text/html": [
       "<pre>| 90      | 11.04s       | 0.0548442         | 0.234174              | 0.016276    |</pre>"
      ],
      "text/plain": [
       "| 90      | 11.04s       | 0.0548442         | 0.234174              | 0.016276    |"
      ]
     },
     "metadata": {},
     "output_type": "display_data"
    },
    {
     "data": {
      "text/html": [
       "<pre>| 100     | 12.96s       | 0.0541617         | 0.232712              | 0.016276    |</pre>"
      ],
      "text/plain": [
       "| 100     | 12.96s       | 0.0541617         | 0.232712              | 0.016276    |"
      ]
     },
     "metadata": {},
     "output_type": "display_data"
    },
    {
     "data": {
      "text/html": [
       "<pre>| 101     | 13.17s       | 0.054459          | 0.23335               | 0.016276    |</pre>"
      ],
      "text/plain": [
       "| 101     | 13.17s       | 0.054459          | 0.23335               | 0.016276    |"
      ]
     },
     "metadata": {},
     "output_type": "display_data"
    },
    {
     "data": {
      "text/html": [
       "<pre>| 110     | 14.72s       | 0.054199          | 0.232792              | 0.016276    |</pre>"
      ],
      "text/plain": [
       "| 110     | 14.72s       | 0.054199          | 0.232792              | 0.016276    |"
      ]
     },
     "metadata": {},
     "output_type": "display_data"
    },
    {
     "data": {
      "text/html": [
       "<pre>| 120     | 16.47s       | 0.0534691         | 0.231219              | 0.016276    |</pre>"
      ],
      "text/plain": [
       "| 120     | 16.47s       | 0.0534691         | 0.231219              | 0.016276    |"
      ]
     },
     "metadata": {},
     "output_type": "display_data"
    },
    {
     "data": {
      "text/html": [
       "<pre>| 130     | 17.75s       | 0.0525208         | 0.229159              | 0.016276    |</pre>"
      ],
      "text/plain": [
       "| 130     | 17.75s       | 0.0525208         | 0.229159              | 0.016276    |"
      ]
     },
     "metadata": {},
     "output_type": "display_data"
    },
    {
     "data": {
      "text/html": [
       "<pre>| 140     | 19.22s       | 0.0524095         | 0.228916              | 0.016276    |</pre>"
      ],
      "text/plain": [
       "| 140     | 19.22s       | 0.0524095         | 0.228916              | 0.016276    |"
      ]
     },
     "metadata": {},
     "output_type": "display_data"
    },
    {
     "data": {
      "text/html": [
       "<pre>| 150     | 20.54s       | 0.0524089         | 0.228914              | 0.016276    |</pre>"
      ],
      "text/plain": [
       "| 150     | 20.54s       | 0.0524089         | 0.228914              | 0.016276    |"
      ]
     },
     "metadata": {},
     "output_type": "display_data"
    },
    {
     "data": {
      "text/html": [
       "<pre>| 160     | 21.65s       | 0.0528811         | 0.229943              | 0.016276    |</pre>"
      ],
      "text/plain": [
       "| 160     | 21.65s       | 0.0528811         | 0.229943              | 0.016276    |"
      ]
     },
     "metadata": {},
     "output_type": "display_data"
    },
    {
     "data": {
      "text/html": [
       "<pre>| 170     | 22.75s       | 0.0516846         | 0.227327              | 0.016276    |</pre>"
      ],
      "text/plain": [
       "| 170     | 22.75s       | 0.0516846         | 0.227327              | 0.016276    |"
      ]
     },
     "metadata": {},
     "output_type": "display_data"
    },
    {
     "data": {
      "text/html": [
       "<pre>| 180     | 23.85s       | 0.051665          | 0.227283              | 0.016276    |</pre>"
      ],
      "text/plain": [
       "| 180     | 23.85s       | 0.051665          | 0.227283              | 0.016276    |"
      ]
     },
     "metadata": {},
     "output_type": "display_data"
    },
    {
     "data": {
      "text/html": [
       "<pre>| 190     | 25.29s       | 0.0515965         | 0.227133              | 0.016276    |</pre>"
      ],
      "text/plain": [
       "| 190     | 25.29s       | 0.0515965         | 0.227133              | 0.016276    |"
      ]
     },
     "metadata": {},
     "output_type": "display_data"
    },
    {
     "data": {
      "text/html": [
       "<pre>| 200     | 27.10s       | 0.0511471         | 0.226141              | 0.016276    |</pre>"
      ],
      "text/plain": [
       "| 200     | 27.10s       | 0.0511471         | 0.226141              | 0.016276    |"
      ]
     },
     "metadata": {},
     "output_type": "display_data"
    },
    {
     "data": {
      "text/html": [
       "<pre>| 210     | 29.01s       | 0.0499211         | 0.223414              | 0.016276    |</pre>"
      ],
      "text/plain": [
       "| 210     | 29.01s       | 0.0499211         | 0.223414              | 0.016276    |"
      ]
     },
     "metadata": {},
     "output_type": "display_data"
    },
    {
     "data": {
      "text/html": [
       "<pre>| 220     | 30.35s       | 0.0517315         | 0.22743               | 0.016276    |</pre>"
      ],
      "text/plain": [
       "| 220     | 30.35s       | 0.0517315         | 0.22743               | 0.016276    |"
      ]
     },
     "metadata": {},
     "output_type": "display_data"
    },
    {
     "data": {
      "text/html": [
       "<pre>| 230     | 31.45s       | 0.0510903         | 0.226015              | 0.016276    |</pre>"
      ],
      "text/plain": [
       "| 230     | 31.45s       | 0.0510903         | 0.226015              | 0.016276    |"
      ]
     },
     "metadata": {},
     "output_type": "display_data"
    },
    {
     "data": {
      "text/html": [
       "<pre>| 240     | 33.30s       | 0.050462          | 0.224621              | 0.016276    |</pre>"
      ],
      "text/plain": [
       "| 240     | 33.30s       | 0.050462          | 0.224621              | 0.016276    |"
      ]
     },
     "metadata": {},
     "output_type": "display_data"
    },
    {
     "data": {
      "text/html": [
       "<pre>| 250     | 34.56s       | 0.0508455         | 0.225473              | 0.016276    |</pre>"
      ],
      "text/plain": [
       "| 250     | 34.56s       | 0.0508455         | 0.225473              | 0.016276    |"
      ]
     },
     "metadata": {},
     "output_type": "display_data"
    },
    {
     "data": {
      "text/html": [
       "<pre>| 260     | 35.86s       | 0.0503169         | 0.224298              | 0.016276    |</pre>"
      ],
      "text/plain": [
       "| 260     | 35.86s       | 0.0503169         | 0.224298              | 0.016276    |"
      ]
     },
     "metadata": {},
     "output_type": "display_data"
    },
    {
     "data": {
      "text/html": [
       "<pre>| 270     | 37.04s       | 0.0507697         | 0.225305              | 0.016276    |</pre>"
      ],
      "text/plain": [
       "| 270     | 37.04s       | 0.0507697         | 0.225305              | 0.016276    |"
      ]
     },
     "metadata": {},
     "output_type": "display_data"
    },
    {
     "data": {
      "text/html": [
       "<pre>| 280     | 38.26s       | 0.0502113         | 0.224062              | 0.016276    |</pre>"
      ],
      "text/plain": [
       "| 280     | 38.26s       | 0.0502113         | 0.224062              | 0.016276    |"
      ]
     },
     "metadata": {},
     "output_type": "display_data"
    },
    {
     "data": {
      "text/html": [
       "<pre>| 290     | 39.89s       | 0.0503628         | 0.2244                | 0.016276    |</pre>"
      ],
      "text/plain": [
       "| 290     | 39.89s       | 0.0503628         | 0.2244                | 0.016276    |"
      ]
     },
     "metadata": {},
     "output_type": "display_data"
    },
    {
     "data": {
      "text/html": [
       "<pre>| 300     | 41.44s       | 0.050232          | 0.224109              | 0.016276    |</pre>"
      ],
      "text/plain": [
       "| 300     | 41.44s       | 0.050232          | 0.224109              | 0.016276    |"
      ]
     },
     "metadata": {},
     "output_type": "display_data"
    },
    {
     "data": {
      "text/html": [
       "<pre>| 310     | 43.06s       | 0.0505467         | 0.22481               | 0.016276    |</pre>"
      ],
      "text/plain": [
       "| 310     | 43.06s       | 0.0505467         | 0.22481               | 0.016276    |"
      ]
     },
     "metadata": {},
     "output_type": "display_data"
    },
    {
     "data": {
      "text/html": [
       "<pre>| 320     | 44.25s       | 0.0499337         | 0.223442              | 0.016276    |</pre>"
      ],
      "text/plain": [
       "| 320     | 44.25s       | 0.0499337         | 0.223442              | 0.016276    |"
      ]
     },
     "metadata": {},
     "output_type": "display_data"
    },
    {
     "data": {
      "text/html": [
       "<pre>| 330     | 45.33s       | 0.0501844         | 0.224002              | 0.016276    |</pre>"
      ],
      "text/plain": [
       "| 330     | 45.33s       | 0.0501844         | 0.224002              | 0.016276    |"
      ]
     },
     "metadata": {},
     "output_type": "display_data"
    },
    {
     "data": {
      "text/html": [
       "<pre>| 340     | 46.40s       | 0.0495527         | 0.222588              | 0.016276    |</pre>"
      ],
      "text/plain": [
       "| 340     | 46.40s       | 0.0495527         | 0.222588              | 0.016276    |"
      ]
     },
     "metadata": {},
     "output_type": "display_data"
    },
    {
     "data": {
      "text/html": [
       "<pre>| 350     | 47.44s       | 0.0501848         | 0.224003              | 0.016276    |</pre>"
      ],
      "text/plain": [
       "| 350     | 47.44s       | 0.0501848         | 0.224003              | 0.016276    |"
      ]
     },
     "metadata": {},
     "output_type": "display_data"
    },
    {
     "data": {
      "text/html": [
       "<pre>| 360     | 48.56s       | 0.0492428         | 0.221891              | 0.016276    |</pre>"
      ],
      "text/plain": [
       "| 360     | 48.56s       | 0.0492428         | 0.221891              | 0.016276    |"
      ]
     },
     "metadata": {},
     "output_type": "display_data"
    },
    {
     "data": {
      "text/html": [
       "<pre>| 370     | 49.72s       | 0.0502562         | 0.224162              | 0.016276    |</pre>"
      ],
      "text/plain": [
       "| 370     | 49.72s       | 0.0502562         | 0.224162              | 0.016276    |"
      ]
     },
     "metadata": {},
     "output_type": "display_data"
    },
    {
     "data": {
      "text/html": [
       "<pre>| 380     | 50.83s       | 0.0494991         | 0.222467              | 0.016276    |</pre>"
      ],
      "text/plain": [
       "| 380     | 50.83s       | 0.0494991         | 0.222467              | 0.016276    |"
      ]
     },
     "metadata": {},
     "output_type": "display_data"
    },
    {
     "data": {
      "text/html": [
       "<pre>| 390     | 51.97s       | 0.048913          | 0.221146              | 0.016276    |</pre>"
      ],
      "text/plain": [
       "| 390     | 51.97s       | 0.048913          | 0.221146              | 0.016276    |"
      ]
     },
     "metadata": {},
     "output_type": "display_data"
    },
    {
     "data": {
      "text/html": [
       "<pre>| 400     | 53.85s       | 0.0492153         | 0.221829              | 0.016276    |</pre>"
      ],
      "text/plain": [
       "| 400     | 53.85s       | 0.0492153         | 0.221829              | 0.016276    |"
      ]
     },
     "metadata": {},
     "output_type": "display_data"
    },
    {
     "data": {
      "text/html": [
       "<pre>| 410     | 55.00s       | 0.0493606         | 0.222156              | 0.016276    |</pre>"
      ],
      "text/plain": [
       "| 410     | 55.00s       | 0.0493606         | 0.222156              | 0.016276    |"
      ]
     },
     "metadata": {},
     "output_type": "display_data"
    },
    {
     "data": {
      "text/html": [
       "<pre>| 420     | 56.22s       | 0.0498221         | 0.223192              | 0.016276    |</pre>"
      ],
      "text/plain": [
       "| 420     | 56.22s       | 0.0498221         | 0.223192              | 0.016276    |"
      ]
     },
     "metadata": {},
     "output_type": "display_data"
    },
    {
     "data": {
      "text/html": [
       "<pre>| 430     | 57.34s       | 0.0492957         | 0.22201               | 0.016276    |</pre>"
      ],
      "text/plain": [
       "| 430     | 57.34s       | 0.0492957         | 0.22201               | 0.016276    |"
      ]
     },
     "metadata": {},
     "output_type": "display_data"
    },
    {
     "data": {
      "text/html": [
       "<pre>| 440     | 58.44s       | 0.0497905         | 0.223121              | 0.016276    |</pre>"
      ],
      "text/plain": [
       "| 440     | 58.44s       | 0.0497905         | 0.223121              | 0.016276    |"
      ]
     },
     "metadata": {},
     "output_type": "display_data"
    },
    {
     "data": {
      "text/html": [
       "<pre>| 450     | 59.56s       | 0.0491229         | 0.22162               | 0.016276    |</pre>"
      ],
      "text/plain": [
       "| 450     | 59.56s       | 0.0491229         | 0.22162               | 0.016276    |"
      ]
     },
     "metadata": {},
     "output_type": "display_data"
    },
    {
     "data": {
      "text/html": [
       "<pre>| 460     | 1m 0s        | 0.0494653         | 0.222391              | 0.016276    |</pre>"
      ],
      "text/plain": [
       "| 460     | 1m 0s        | 0.0494653         | 0.222391              | 0.016276    |"
      ]
     },
     "metadata": {},
     "output_type": "display_data"
    },
    {
     "data": {
      "text/html": [
       "<pre>| 470     | 1m 1s        | 0.0485865         | 0.220407              | 0.016276    |</pre>"
      ],
      "text/plain": [
       "| 470     | 1m 1s        | 0.0485865         | 0.220407              | 0.016276    |"
      ]
     },
     "metadata": {},
     "output_type": "display_data"
    },
    {
     "data": {
      "text/html": [
       "<pre>| 480     | 1m 2s        | 0.0488997         | 0.221116              | 0.016276    |</pre>"
      ],
      "text/plain": [
       "| 480     | 1m 2s        | 0.0488997         | 0.221116              | 0.016276    |"
      ]
     },
     "metadata": {},
     "output_type": "display_data"
    },
    {
     "data": {
      "text/html": [
       "<pre>| 490     | 1m 3s        | 0.0492686         | 0.221949              | 0.016276    |</pre>"
      ],
      "text/plain": [
       "| 490     | 1m 3s        | 0.0492686         | 0.221949              | 0.016276    |"
      ]
     },
     "metadata": {},
     "output_type": "display_data"
    },
    {
     "data": {
      "text/html": [
       "<pre>| 500     | 1m 5s        | 0.0491879         | 0.221767              | 0.016276    |</pre>"
      ],
      "text/plain": [
       "| 500     | 1m 5s        | 0.0491879         | 0.221767              | 0.016276    |"
      ]
     },
     "metadata": {},
     "output_type": "display_data"
    },
    {
     "data": {
      "text/html": [
       "<pre>| 501     | 1m 5s        | 0.0489011         | 0.221119              | 0.016276    |</pre>"
      ],
      "text/plain": [
       "| 501     | 1m 5s        | 0.0489011         | 0.221119              | 0.016276    |"
      ]
     },
     "metadata": {},
     "output_type": "display_data"
    },
    {
     "data": {
      "text/html": [
       "<pre>| 510     | 1m 6s        | 0.048404          | 0.219992              | 0.016276    |</pre>"
      ],
      "text/plain": [
       "| 510     | 1m 6s        | 0.048404          | 0.219992              | 0.016276    |"
      ]
     },
     "metadata": {},
     "output_type": "display_data"
    },
    {
     "data": {
      "text/html": [
       "<pre>| 520     | 1m 7s        | 0.0492148         | 0.221827              | 0.016276    |</pre>"
      ],
      "text/plain": [
       "| 520     | 1m 7s        | 0.0492148         | 0.221827              | 0.016276    |"
      ]
     },
     "metadata": {},
     "output_type": "display_data"
    },
    {
     "data": {
      "text/html": [
       "<pre>| 530     | 1m 8s        | 0.0486378         | 0.220523              | 0.016276    |</pre>"
      ],
      "text/plain": [
       "| 530     | 1m 8s        | 0.0486378         | 0.220523              | 0.016276    |"
      ]
     },
     "metadata": {},
     "output_type": "display_data"
    },
    {
     "data": {
      "text/html": [
       "<pre>| 540     | 1m 9s        | 0.0490007         | 0.221344              | 0.016276    |</pre>"
      ],
      "text/plain": [
       "| 540     | 1m 9s        | 0.0490007         | 0.221344              | 0.016276    |"
      ]
     },
     "metadata": {},
     "output_type": "display_data"
    },
    {
     "data": {
      "text/html": [
       "<pre>| 550     | 1m 10s       | 0.0486228         | 0.220489              | 0.016276    |</pre>"
      ],
      "text/plain": [
       "| 550     | 1m 10s       | 0.0486228         | 0.220489              | 0.016276    |"
      ]
     },
     "metadata": {},
     "output_type": "display_data"
    },
    {
     "data": {
      "text/html": [
       "<pre>| 560     | 1m 11s       | 0.0486711         | 0.220598              | 0.016276    |</pre>"
      ],
      "text/plain": [
       "| 560     | 1m 11s       | 0.0486711         | 0.220598              | 0.016276    |"
      ]
     },
     "metadata": {},
     "output_type": "display_data"
    },
    {
     "data": {
      "text/html": [
       "<pre>| 570     | 1m 12s       | 0.0488304         | 0.220959              | 0.016276    |</pre>"
      ],
      "text/plain": [
       "| 570     | 1m 12s       | 0.0488304         | 0.220959              | 0.016276    |"
      ]
     },
     "metadata": {},
     "output_type": "display_data"
    },
    {
     "data": {
      "text/html": [
       "<pre>| 580     | 1m 13s       | 0.0488907         | 0.221096              | 0.016276    |</pre>"
      ],
      "text/plain": [
       "| 580     | 1m 13s       | 0.0488907         | 0.221096              | 0.016276    |"
      ]
     },
     "metadata": {},
     "output_type": "display_data"
    },
    {
     "data": {
      "text/html": [
       "<pre>| 590     | 1m 15s       | 0.0484752         | 0.220154              | 0.016276    |</pre>"
      ],
      "text/plain": [
       "| 590     | 1m 15s       | 0.0484752         | 0.220154              | 0.016276    |"
      ]
     },
     "metadata": {},
     "output_type": "display_data"
    },
    {
     "data": {
      "text/html": [
       "<pre>| 600     | 1m 16s       | 0.0489248         | 0.221173              | 0.016276    |</pre>"
      ],
      "text/plain": [
       "| 600     | 1m 16s       | 0.0489248         | 0.221173              | 0.016276    |"
      ]
     },
     "metadata": {},
     "output_type": "display_data"
    },
    {
     "data": {
      "text/html": [
       "<pre>| 610     | 1m 17s       | 0.0485843         | 0.220402              | 0.016276    |</pre>"
      ],
      "text/plain": [
       "| 610     | 1m 17s       | 0.0485843         | 0.220402              | 0.016276    |"
      ]
     },
     "metadata": {},
     "output_type": "display_data"
    },
    {
     "data": {
      "text/html": [
       "<pre>| 620     | 1m 18s       | 0.0487249         | 0.22072               | 0.016276    |</pre>"
      ],
      "text/plain": [
       "| 620     | 1m 18s       | 0.0487249         | 0.22072               | 0.016276    |"
      ]
     },
     "metadata": {},
     "output_type": "display_data"
    },
    {
     "data": {
      "text/html": [
       "<pre>| 630     | 1m 19s       | 0.0484615         | 0.220123              | 0.016276    |</pre>"
      ],
      "text/plain": [
       "| 630     | 1m 19s       | 0.0484615         | 0.220123              | 0.016276    |"
      ]
     },
     "metadata": {},
     "output_type": "display_data"
    },
    {
     "data": {
      "text/html": [
       "<pre>| 640     | 1m 20s       | 0.0481462         | 0.219405              | 0.016276    |</pre>"
      ],
      "text/plain": [
       "| 640     | 1m 20s       | 0.0481462         | 0.219405              | 0.016276    |"
      ]
     },
     "metadata": {},
     "output_type": "display_data"
    },
    {
     "data": {
      "text/html": [
       "<pre>| 650     | 1m 21s       | 0.0482386         | 0.219616              | 0.016276    |</pre>"
      ],
      "text/plain": [
       "| 650     | 1m 21s       | 0.0482386         | 0.219616              | 0.016276    |"
      ]
     },
     "metadata": {},
     "output_type": "display_data"
    },
    {
     "data": {
      "text/html": [
       "<pre>| 660     | 1m 22s       | 0.0481208         | 0.219348              | 0.016276    |</pre>"
      ],
      "text/plain": [
       "| 660     | 1m 22s       | 0.0481208         | 0.219348              | 0.016276    |"
      ]
     },
     "metadata": {},
     "output_type": "display_data"
    },
    {
     "data": {
      "text/html": [
       "<pre>| 670     | 1m 23s       | 0.0483335         | 0.219832              | 0.016276    |</pre>"
      ],
      "text/plain": [
       "| 670     | 1m 23s       | 0.0483335         | 0.219832              | 0.016276    |"
      ]
     },
     "metadata": {},
     "output_type": "display_data"
    },
    {
     "data": {
      "text/html": [
       "<pre>| 680     | 1m 24s       | 0.0482876         | 0.219727              | 0.016276    |</pre>"
      ],
      "text/plain": [
       "| 680     | 1m 24s       | 0.0482876         | 0.219727              | 0.016276    |"
      ]
     },
     "metadata": {},
     "output_type": "display_data"
    },
    {
     "data": {
      "text/html": [
       "<pre>| 690     | 1m 25s       | 0.0480293         | 0.219139              | 0.016276    |</pre>"
      ],
      "text/plain": [
       "| 690     | 1m 25s       | 0.0480293         | 0.219139              | 0.016276    |"
      ]
     },
     "metadata": {},
     "output_type": "display_data"
    },
    {
     "data": {
      "text/html": [
       "<pre>| 700     | 1m 27s       | 0.0475924         | 0.21814               | 0.016276    |</pre>"
      ],
      "text/plain": [
       "| 700     | 1m 27s       | 0.0475924         | 0.21814               | 0.016276    |"
      ]
     },
     "metadata": {},
     "output_type": "display_data"
    },
    {
     "data": {
      "text/html": [
       "<pre>| 710     | 1m 28s       | 0.0487835         | 0.220853              | 0.016276    |</pre>"
      ],
      "text/plain": [
       "| 710     | 1m 28s       | 0.0487835         | 0.220853              | 0.016276    |"
      ]
     },
     "metadata": {},
     "output_type": "display_data"
    },
    {
     "data": {
      "text/html": [
       "<pre>| 720     | 1m 29s       | 0.047758          | 0.218519              | 0.016276    |</pre>"
      ],
      "text/plain": [
       "| 720     | 1m 29s       | 0.047758          | 0.218519              | 0.016276    |"
      ]
     },
     "metadata": {},
     "output_type": "display_data"
    },
    {
     "data": {
      "text/html": [
       "<pre>| 730     | 1m 30s       | 0.0485886         | 0.220411              | 0.016276    |</pre>"
      ],
      "text/plain": [
       "| 730     | 1m 30s       | 0.0485886         | 0.220411              | 0.016276    |"
      ]
     },
     "metadata": {},
     "output_type": "display_data"
    },
    {
     "data": {
      "text/html": [
       "<pre>| 740     | 1m 31s       | 0.047677          | 0.218333              | 0.016276    |</pre>"
      ],
      "text/plain": [
       "| 740     | 1m 31s       | 0.047677          | 0.218333              | 0.016276    |"
      ]
     },
     "metadata": {},
     "output_type": "display_data"
    },
    {
     "data": {
      "text/html": [
       "<pre>| 750     | 1m 32s       | 0.0480829         | 0.219261              | 0.016276    |</pre>"
      ],
      "text/plain": [
       "| 750     | 1m 32s       | 0.0480829         | 0.219261              | 0.016276    |"
      ]
     },
     "metadata": {},
     "output_type": "display_data"
    },
    {
     "data": {
      "text/html": [
       "<pre>| 760     | 1m 33s       | 0.0473993         | 0.217697              | 0.016276    |</pre>"
      ],
      "text/plain": [
       "| 760     | 1m 33s       | 0.0473993         | 0.217697              | 0.016276    |"
      ]
     },
     "metadata": {},
     "output_type": "display_data"
    },
    {
     "data": {
      "text/html": [
       "<pre>| 770     | 1m 34s       | 0.0476813         | 0.218343              | 0.016276    |</pre>"
      ],
      "text/plain": [
       "| 770     | 1m 34s       | 0.0476813         | 0.218343              | 0.016276    |"
      ]
     },
     "metadata": {},
     "output_type": "display_data"
    },
    {
     "data": {
      "text/html": [
       "<pre>| 780     | 1m 35s       | 0.0485518         | 0.220328              | 0.016276    |</pre>"
      ],
      "text/plain": [
       "| 780     | 1m 35s       | 0.0485518         | 0.220328              | 0.016276    |"
      ]
     },
     "metadata": {},
     "output_type": "display_data"
    },
    {
     "data": {
      "text/html": [
       "<pre>| 790     | 1m 37s       | 0.0479615         | 0.218984              | 0.016276    |</pre>"
      ],
      "text/plain": [
       "| 790     | 1m 37s       | 0.0479615         | 0.218984              | 0.016276    |"
      ]
     },
     "metadata": {},
     "output_type": "display_data"
    },
    {
     "data": {
      "text/html": [
       "<pre>| 800     | 1m 39s       | 0.0476567         | 0.218287              | 0.016276    |</pre>"
      ],
      "text/plain": [
       "| 800     | 1m 39s       | 0.0476567         | 0.218287              | 0.016276    |"
      ]
     },
     "metadata": {},
     "output_type": "display_data"
    },
    {
     "data": {
      "text/html": [
       "<pre>| 810     | 1m 40s       | 0.0480528         | 0.219192              | 0.016276    |</pre>"
      ],
      "text/plain": [
       "| 810     | 1m 40s       | 0.0480528         | 0.219192              | 0.016276    |"
      ]
     },
     "metadata": {},
     "output_type": "display_data"
    },
    {
     "data": {
      "text/html": [
       "<pre>| 820     | 1m 41s       | 0.0474523         | 0.217818              | 0.016276    |</pre>"
      ],
      "text/plain": [
       "| 820     | 1m 41s       | 0.0474523         | 0.217818              | 0.016276    |"
      ]
     },
     "metadata": {},
     "output_type": "display_data"
    },
    {
     "data": {
      "text/html": [
       "<pre>| 830     | 1m 42s       | 0.0476859         | 0.218354              | 0.016276    |</pre>"
      ],
      "text/plain": [
       "| 830     | 1m 42s       | 0.0476859         | 0.218354              | 0.016276    |"
      ]
     },
     "metadata": {},
     "output_type": "display_data"
    },
    {
     "data": {
      "text/html": [
       "<pre>| 840     | 1m 44s       | 0.047704          | 0.218396              | 0.016276    |</pre>"
      ],
      "text/plain": [
       "| 840     | 1m 44s       | 0.047704          | 0.218396              | 0.016276    |"
      ]
     },
     "metadata": {},
     "output_type": "display_data"
    },
    {
     "data": {
      "text/html": [
       "<pre>| 850     | 1m 45s       | 0.0476646         | 0.218305              | 0.016276    |</pre>"
      ],
      "text/plain": [
       "| 850     | 1m 45s       | 0.0476646         | 0.218305              | 0.016276    |"
      ]
     },
     "metadata": {},
     "output_type": "display_data"
    },
    {
     "data": {
      "text/html": [
       "<pre>| 860     | 1m 46s       | 0.0475689         | 0.218086              | 0.016276    |</pre>"
      ],
      "text/plain": [
       "| 860     | 1m 46s       | 0.0475689         | 0.218086              | 0.016276    |"
      ]
     },
     "metadata": {},
     "output_type": "display_data"
    },
    {
     "data": {
      "text/html": [
       "<pre>| 870     | 1m 47s       | 0.0475966         | 0.218149              | 0.016276    |</pre>"
      ],
      "text/plain": [
       "| 870     | 1m 47s       | 0.0475966         | 0.218149              | 0.016276    |"
      ]
     },
     "metadata": {},
     "output_type": "display_data"
    },
    {
     "data": {
      "text/html": [
       "<pre>| 880     | 1m 48s       | 0.0476516         | 0.218275              | 0.016276    |</pre>"
      ],
      "text/plain": [
       "| 880     | 1m 48s       | 0.0476516         | 0.218275              | 0.016276    |"
      ]
     },
     "metadata": {},
     "output_type": "display_data"
    },
    {
     "data": {
      "text/html": [
       "<pre>| 890     | 1m 50s       | 0.0471524         | 0.217129              | 0.016276    |</pre>"
      ],
      "text/plain": [
       "| 890     | 1m 50s       | 0.0471524         | 0.217129              | 0.016276    |"
      ]
     },
     "metadata": {},
     "output_type": "display_data"
    },
    {
     "data": {
      "text/html": [
       "<pre>| 900     | 1m 51s       | 0.0476439         | 0.218258              | 0.016276    |</pre>"
      ],
      "text/plain": [
       "| 900     | 1m 51s       | 0.0476439         | 0.218258              | 0.016276    |"
      ]
     },
     "metadata": {},
     "output_type": "display_data"
    }
   ],
   "source": [
    "#-------- make prediction with side features \n",
    "trainI, testI = gl.recommender.util.random_split_by_user(sf, max_num_users= 20000, item_test_proportion= 0.2, random_seed=5)\n",
    "\n",
    "mI = gl.factorization_recommender.create(trainI, target='rating',item_data= item_info, max_iterations=1000)\n",
    "print 'MEASUREMENT ON TEST WITH FEATURES'\n",
    "\n",
    "evalsI = mI.evaluate(testI)"
   ]
  },
  {
   "cell_type": "code",
   "execution_count": null,
   "metadata": {
    "collapsed": true
   },
   "outputs": [],
   "source": [
    "\n",
    "\n",
    "\n",
    "\n",
    "\n",
    "\n",
    "\n",
    "\n",
    "\n",
    "\n",
    "\n",
    "\n",
    "\n",
    "\n",
    "\n"
   ]
  },
  {
   "cell_type": "code",
   "execution_count": 86,
   "metadata": {
    "collapsed": false,
    "scrolled": false
   },
   "outputs": [],
   "source": [
    "#model_gl2 = gl.factorization_recommender.create(sf, target='rating',item_data=None, max_iterations = 500)"
   ]
  },
  {
   "cell_type": "code",
   "execution_count": 15,
   "metadata": {
    "collapsed": false
   },
   "outputs": [],
   "source": [
    "validation_data = pa.read_csv(\"../bytecup2016data/validate_nolabel.txt\", sep = \",\")\n",
    "#print training_data.head(10)"
   ]
  },
  {
   "cell_type": "code",
   "execution_count": 16,
   "metadata": {
    "collapsed": false
   },
   "outputs": [],
   "source": [
    "qvList =  validation_data['question_ID2'].tolist()\n",
    "evList =  validation_data['expert_ID'].tolist()"
   ]
  },
  {
   "cell_type": "code",
   "execution_count": 17,
   "metadata": {
    "collapsed": true
   },
   "outputs": [],
   "source": [
    "sfValidate = gl.SFrame({'user_id': evList,\n",
    "                       'item_id': qvList})"
   ]
  },
  {
   "cell_type": "code",
   "execution_count": 38,
   "metadata": {
    "collapsed": false
   },
   "outputs": [],
   "source": [
    "#m1 = gl.ranking_factorization_recommender.create(sf, target='rating',\n",
    " #                                                          solver='ials')"
   ]
  },
  {
   "cell_type": "code",
   "execution_count": 39,
   "metadata": {
    "collapsed": false
   },
   "outputs": [],
   "source": [
    "#eval = m.evaluate(sf)"
   ]
  },
  {
   "cell_type": "code",
   "execution_count": 7,
   "metadata": {
    "collapsed": false
   },
   "outputs": [],
   "source": [
    "preds = m1.predict(sf, new_observation_data=None, new_user_data=None, new_item_data=None)"
   ]
  },
  {
   "cell_type": "code",
   "execution_count": null,
   "metadata": {
    "collapsed": true
   },
   "outputs": [],
   "source": [
    "\n",
    "\n",
    "\n",
    "\n",
    "\n",
    "\n",
    "\n",
    "\n",
    "\n",
    "\n",
    "\n",
    "\n",
    "\n",
    "\n",
    "\n",
    "\n",
    "\n",
    "\n",
    "validation_set = "
   ]
  },
  {
   "cell_type": "code",
   "execution_count": null,
   "metadata": {
    "collapsed": true
   },
   "outputs": [],
   "source": [
    "preds = m1.predict(sf, new_observation_data=None, new_user_data=None, new_item_data=None)"
   ]
  },
  {
   "cell_type": "code",
   "execution_count": 18,
   "metadata": {
    "collapsed": true
   },
   "outputs": [],
   "source": [
    "preds = m1.predict(sfValidate, new_observation_data=None, new_user_data=None, new_item_data=None)"
   ]
  },
  {
   "cell_type": "code",
   "execution_count": 19,
   "metadata": {
    "collapsed": true
   },
   "outputs": [],
   "source": [
    "strPreds = map(str,preds)"
   ]
  },
  {
   "cell_type": "code",
   "execution_count": 20,
   "metadata": {
    "collapsed": false
   },
   "outputs": [],
   "source": [
    "with open('../bytecup2016data/predsGL.txt','w') as f:\n",
    "    f.write('\\n'.join(strPreds))"
   ]
  },
  {
   "cell_type": "code",
   "execution_count": 87,
   "metadata": {
    "collapsed": false,
    "scrolled": false
   },
   "outputs": [],
   "source": [
    "#train, test = gl.recommender.util.random_split_by_user(sf, )\n",
    "#m = gl.factorization_recommender.create(train, target='rating')\n",
    "#eval = m.evaluate(test)"
   ]
  },
  {
   "cell_type": "code",
   "execution_count": null,
   "metadata": {
    "collapsed": true
   },
   "outputs": [],
   "source": []
  },
  {
   "cell_type": "code",
   "execution_count": null,
   "metadata": {
    "collapsed": true
   },
   "outputs": [],
   "source": [
    "train, test = m1.recommender.util.random_split_by_user(sf)\n",
    "m = gl.recommender.create(train)\n",
    "m.evaluate_precision_recall(test)"
   ]
  },
  {
   "cell_type": "code",
   "execution_count": 23,
   "metadata": {
    "collapsed": false
   },
   "outputs": [],
   "source": [
    "#train data features\n",
    "final_norm_features =   pa.read_csv(\"final_normalized_train.csv\", sep = \"\\t\")\n"
   ]
  },
  {
   "cell_type": "code",
   "execution_count": 25,
   "metadata": {
    "collapsed": false
   },
   "outputs": [
    {
     "ename": "KeyError",
     "evalue": "\"['0' '1' '2'] not in index\"",
     "output_type": "error",
     "traceback": [
      "\u001b[0;31m---------------------------------------------------------------------------\u001b[0m",
      "\u001b[0;31mKeyError\u001b[0m                                  Traceback (most recent call last)",
      "\u001b[0;32m<ipython-input-25-b83a9b01ad8e>\u001b[0m in \u001b[0;36m<module>\u001b[0;34m()\u001b[0m\n\u001b[0;32m----> 1\u001b[0;31m \u001b[0mnumeric_features\u001b[0m \u001b[0;34m=\u001b[0m \u001b[0mfinal_norm_features\u001b[0m\u001b[0;34m[\u001b[0m\u001b[0;34m[\u001b[0m\u001b[0;34m'0'\u001b[0m\u001b[0;34m,\u001b[0m\u001b[0;34m'1'\u001b[0m\u001b[0;34m,\u001b[0m\u001b[0;34m'2'\u001b[0m\u001b[0;34m]\u001b[0m\u001b[0;34m]\u001b[0m\u001b[0;34m\u001b[0m\u001b[0m\n\u001b[0m",
      "\u001b[0;32m/Applications/anaconda/lib/python2.7/site-packages/pandas/core/frame.pyc\u001b[0m in \u001b[0;36m__getitem__\u001b[0;34m(self, key)\u001b[0m\n\u001b[1;32m   1989\u001b[0m         \u001b[0;32mif\u001b[0m \u001b[0misinstance\u001b[0m\u001b[0;34m(\u001b[0m\u001b[0mkey\u001b[0m\u001b[0;34m,\u001b[0m \u001b[0;34m(\u001b[0m\u001b[0mSeries\u001b[0m\u001b[0;34m,\u001b[0m \u001b[0mnp\u001b[0m\u001b[0;34m.\u001b[0m\u001b[0mndarray\u001b[0m\u001b[0;34m,\u001b[0m \u001b[0mIndex\u001b[0m\u001b[0;34m,\u001b[0m \u001b[0mlist\u001b[0m\u001b[0;34m)\u001b[0m\u001b[0;34m)\u001b[0m\u001b[0;34m:\u001b[0m\u001b[0;34m\u001b[0m\u001b[0m\n\u001b[1;32m   1990\u001b[0m             \u001b[0;31m# either boolean or fancy integer index\u001b[0m\u001b[0;34m\u001b[0m\u001b[0;34m\u001b[0m\u001b[0m\n\u001b[0;32m-> 1991\u001b[0;31m             \u001b[0;32mreturn\u001b[0m \u001b[0mself\u001b[0m\u001b[0;34m.\u001b[0m\u001b[0m_getitem_array\u001b[0m\u001b[0;34m(\u001b[0m\u001b[0mkey\u001b[0m\u001b[0;34m)\u001b[0m\u001b[0;34m\u001b[0m\u001b[0m\n\u001b[0m\u001b[1;32m   1992\u001b[0m         \u001b[0;32melif\u001b[0m \u001b[0misinstance\u001b[0m\u001b[0;34m(\u001b[0m\u001b[0mkey\u001b[0m\u001b[0;34m,\u001b[0m \u001b[0mDataFrame\u001b[0m\u001b[0;34m)\u001b[0m\u001b[0;34m:\u001b[0m\u001b[0;34m\u001b[0m\u001b[0m\n\u001b[1;32m   1993\u001b[0m             \u001b[0;32mreturn\u001b[0m \u001b[0mself\u001b[0m\u001b[0;34m.\u001b[0m\u001b[0m_getitem_frame\u001b[0m\u001b[0;34m(\u001b[0m\u001b[0mkey\u001b[0m\u001b[0;34m)\u001b[0m\u001b[0;34m\u001b[0m\u001b[0m\n",
      "\u001b[0;32m/Applications/anaconda/lib/python2.7/site-packages/pandas/core/frame.pyc\u001b[0m in \u001b[0;36m_getitem_array\u001b[0;34m(self, key)\u001b[0m\n\u001b[1;32m   2033\u001b[0m             \u001b[0;32mreturn\u001b[0m \u001b[0mself\u001b[0m\u001b[0;34m.\u001b[0m\u001b[0mtake\u001b[0m\u001b[0;34m(\u001b[0m\u001b[0mindexer\u001b[0m\u001b[0;34m,\u001b[0m \u001b[0maxis\u001b[0m\u001b[0;34m=\u001b[0m\u001b[0;36m0\u001b[0m\u001b[0;34m,\u001b[0m \u001b[0mconvert\u001b[0m\u001b[0;34m=\u001b[0m\u001b[0mFalse\u001b[0m\u001b[0;34m)\u001b[0m\u001b[0;34m\u001b[0m\u001b[0m\n\u001b[1;32m   2034\u001b[0m         \u001b[0;32melse\u001b[0m\u001b[0;34m:\u001b[0m\u001b[0;34m\u001b[0m\u001b[0m\n\u001b[0;32m-> 2035\u001b[0;31m             \u001b[0mindexer\u001b[0m \u001b[0;34m=\u001b[0m \u001b[0mself\u001b[0m\u001b[0;34m.\u001b[0m\u001b[0mix\u001b[0m\u001b[0;34m.\u001b[0m\u001b[0m_convert_to_indexer\u001b[0m\u001b[0;34m(\u001b[0m\u001b[0mkey\u001b[0m\u001b[0;34m,\u001b[0m \u001b[0maxis\u001b[0m\u001b[0;34m=\u001b[0m\u001b[0;36m1\u001b[0m\u001b[0;34m)\u001b[0m\u001b[0;34m\u001b[0m\u001b[0m\n\u001b[0m\u001b[1;32m   2036\u001b[0m             \u001b[0;32mreturn\u001b[0m \u001b[0mself\u001b[0m\u001b[0;34m.\u001b[0m\u001b[0mtake\u001b[0m\u001b[0;34m(\u001b[0m\u001b[0mindexer\u001b[0m\u001b[0;34m,\u001b[0m \u001b[0maxis\u001b[0m\u001b[0;34m=\u001b[0m\u001b[0;36m1\u001b[0m\u001b[0;34m,\u001b[0m \u001b[0mconvert\u001b[0m\u001b[0;34m=\u001b[0m\u001b[0mTrue\u001b[0m\u001b[0;34m)\u001b[0m\u001b[0;34m\u001b[0m\u001b[0m\n\u001b[1;32m   2037\u001b[0m \u001b[0;34m\u001b[0m\u001b[0m\n",
      "\u001b[0;32m/Applications/anaconda/lib/python2.7/site-packages/pandas/core/indexing.pyc\u001b[0m in \u001b[0;36m_convert_to_indexer\u001b[0;34m(self, obj, axis, is_setter)\u001b[0m\n\u001b[1;32m   1212\u001b[0m                 \u001b[0mmask\u001b[0m \u001b[0;34m=\u001b[0m \u001b[0mcheck\u001b[0m \u001b[0;34m==\u001b[0m \u001b[0;34m-\u001b[0m\u001b[0;36m1\u001b[0m\u001b[0;34m\u001b[0m\u001b[0m\n\u001b[1;32m   1213\u001b[0m                 \u001b[0;32mif\u001b[0m \u001b[0mmask\u001b[0m\u001b[0;34m.\u001b[0m\u001b[0many\u001b[0m\u001b[0;34m(\u001b[0m\u001b[0;34m)\u001b[0m\u001b[0;34m:\u001b[0m\u001b[0;34m\u001b[0m\u001b[0m\n\u001b[0;32m-> 1214\u001b[0;31m                     \u001b[0;32mraise\u001b[0m \u001b[0mKeyError\u001b[0m\u001b[0;34m(\u001b[0m\u001b[0;34m'%s not in index'\u001b[0m \u001b[0;34m%\u001b[0m \u001b[0mobjarr\u001b[0m\u001b[0;34m[\u001b[0m\u001b[0mmask\u001b[0m\u001b[0;34m]\u001b[0m\u001b[0;34m)\u001b[0m\u001b[0;34m\u001b[0m\u001b[0m\n\u001b[0m\u001b[1;32m   1215\u001b[0m \u001b[0;34m\u001b[0m\u001b[0m\n\u001b[1;32m   1216\u001b[0m                 \u001b[0;32mreturn\u001b[0m \u001b[0m_values_from_object\u001b[0m\u001b[0;34m(\u001b[0m\u001b[0mindexer\u001b[0m\u001b[0;34m)\u001b[0m\u001b[0;34m\u001b[0m\u001b[0m\n",
      "\u001b[0;31mKeyError\u001b[0m: \"['0' '1' '2'] not in index\""
     ]
    }
   ],
   "source": [
    "numeric_features = final_norm_features[['0','1','2']]"
   ]
  },
  {
   "cell_type": "code",
   "execution_count": 27,
   "metadata": {
    "collapsed": false
   },
   "outputs": [
    {
     "ename": "TypeError",
     "evalue": "cannot do slice indexing on <class 'pandas.indexes.base.Index'> with these indexers [0] of <type 'str'>",
     "output_type": "error",
     "traceback": [
      "\u001b[0;31m---------------------------------------------------------------------------\u001b[0m",
      "\u001b[0;31mTypeError\u001b[0m                                 Traceback (most recent call last)",
      "\u001b[0;32m<ipython-input-27-908fda53db6d>\u001b[0m in \u001b[0;36m<module>\u001b[0;34m()\u001b[0m\n\u001b[0;32m----> 1\u001b[0;31m \u001b[0mfinal_norm_features\u001b[0m\u001b[0;34m.\u001b[0m\u001b[0miloc\u001b[0m\u001b[0;34m[\u001b[0m\u001b[0;34m:\u001b[0m\u001b[0;34m,\u001b[0m \u001b[0;34m\"0\"\u001b[0m\u001b[0;34m:\u001b[0m\u001b[0;34m\"2\"\u001b[0m\u001b[0;34m]\u001b[0m\u001b[0;34m\u001b[0m\u001b[0m\n\u001b[0m",
      "\u001b[0;32m/Applications/anaconda/lib/python2.7/site-packages/pandas/core/indexing.pyc\u001b[0m in \u001b[0;36m__getitem__\u001b[0;34m(self, key)\u001b[0m\n\u001b[1;32m   1292\u001b[0m \u001b[0;34m\u001b[0m\u001b[0m\n\u001b[1;32m   1293\u001b[0m         \u001b[0;32mif\u001b[0m \u001b[0mtype\u001b[0m\u001b[0;34m(\u001b[0m\u001b[0mkey\u001b[0m\u001b[0;34m)\u001b[0m \u001b[0;32mis\u001b[0m \u001b[0mtuple\u001b[0m\u001b[0;34m:\u001b[0m\u001b[0;34m\u001b[0m\u001b[0m\n\u001b[0;32m-> 1294\u001b[0;31m             \u001b[0;32mreturn\u001b[0m \u001b[0mself\u001b[0m\u001b[0;34m.\u001b[0m\u001b[0m_getitem_tuple\u001b[0m\u001b[0;34m(\u001b[0m\u001b[0mkey\u001b[0m\u001b[0;34m)\u001b[0m\u001b[0;34m\u001b[0m\u001b[0m\n\u001b[0m\u001b[1;32m   1295\u001b[0m         \u001b[0;32melse\u001b[0m\u001b[0;34m:\u001b[0m\u001b[0;34m\u001b[0m\u001b[0m\n\u001b[1;32m   1296\u001b[0m             \u001b[0;32mreturn\u001b[0m \u001b[0mself\u001b[0m\u001b[0;34m.\u001b[0m\u001b[0m_getitem_axis\u001b[0m\u001b[0;34m(\u001b[0m\u001b[0mkey\u001b[0m\u001b[0;34m,\u001b[0m \u001b[0maxis\u001b[0m\u001b[0;34m=\u001b[0m\u001b[0;36m0\u001b[0m\u001b[0;34m)\u001b[0m\u001b[0;34m\u001b[0m\u001b[0m\n",
      "\u001b[0;32m/Applications/anaconda/lib/python2.7/site-packages/pandas/core/indexing.pyc\u001b[0m in \u001b[0;36m_getitem_tuple\u001b[0;34m(self, tup)\u001b[0m\n\u001b[1;32m   1558\u001b[0m                 \u001b[0;32mcontinue\u001b[0m\u001b[0;34m\u001b[0m\u001b[0m\n\u001b[1;32m   1559\u001b[0m \u001b[0;34m\u001b[0m\u001b[0m\n\u001b[0;32m-> 1560\u001b[0;31m             \u001b[0mretval\u001b[0m \u001b[0;34m=\u001b[0m \u001b[0mgetattr\u001b[0m\u001b[0;34m(\u001b[0m\u001b[0mretval\u001b[0m\u001b[0;34m,\u001b[0m \u001b[0mself\u001b[0m\u001b[0;34m.\u001b[0m\u001b[0mname\u001b[0m\u001b[0;34m)\u001b[0m\u001b[0;34m.\u001b[0m\u001b[0m_getitem_axis\u001b[0m\u001b[0;34m(\u001b[0m\u001b[0mkey\u001b[0m\u001b[0;34m,\u001b[0m \u001b[0maxis\u001b[0m\u001b[0;34m=\u001b[0m\u001b[0maxis\u001b[0m\u001b[0;34m)\u001b[0m\u001b[0;34m\u001b[0m\u001b[0m\n\u001b[0m\u001b[1;32m   1561\u001b[0m \u001b[0;34m\u001b[0m\u001b[0m\n\u001b[1;32m   1562\u001b[0m             \u001b[0;31m# if the dim was reduced, then pass a lower-dim the next time\u001b[0m\u001b[0;34m\u001b[0m\u001b[0;34m\u001b[0m\u001b[0m\n",
      "\u001b[0;32m/Applications/anaconda/lib/python2.7/site-packages/pandas/core/indexing.pyc\u001b[0m in \u001b[0;36m_getitem_axis\u001b[0;34m(self, key, axis)\u001b[0m\n\u001b[1;32m   1585\u001b[0m         \u001b[0;32mif\u001b[0m \u001b[0misinstance\u001b[0m\u001b[0;34m(\u001b[0m\u001b[0mkey\u001b[0m\u001b[0;34m,\u001b[0m \u001b[0mslice\u001b[0m\u001b[0;34m)\u001b[0m\u001b[0;34m:\u001b[0m\u001b[0;34m\u001b[0m\u001b[0m\n\u001b[1;32m   1586\u001b[0m             \u001b[0mself\u001b[0m\u001b[0;34m.\u001b[0m\u001b[0m_has_valid_type\u001b[0m\u001b[0;34m(\u001b[0m\u001b[0mkey\u001b[0m\u001b[0;34m,\u001b[0m \u001b[0maxis\u001b[0m\u001b[0;34m)\u001b[0m\u001b[0;34m\u001b[0m\u001b[0m\n\u001b[0;32m-> 1587\u001b[0;31m             \u001b[0;32mreturn\u001b[0m \u001b[0mself\u001b[0m\u001b[0;34m.\u001b[0m\u001b[0m_get_slice_axis\u001b[0m\u001b[0;34m(\u001b[0m\u001b[0mkey\u001b[0m\u001b[0;34m,\u001b[0m \u001b[0maxis\u001b[0m\u001b[0;34m=\u001b[0m\u001b[0maxis\u001b[0m\u001b[0;34m)\u001b[0m\u001b[0;34m\u001b[0m\u001b[0m\n\u001b[0m\u001b[1;32m   1588\u001b[0m \u001b[0;34m\u001b[0m\u001b[0m\n\u001b[1;32m   1589\u001b[0m         \u001b[0;32melif\u001b[0m \u001b[0mis_bool_indexer\u001b[0m\u001b[0;34m(\u001b[0m\u001b[0mkey\u001b[0m\u001b[0;34m)\u001b[0m\u001b[0;34m:\u001b[0m\u001b[0;34m\u001b[0m\u001b[0m\n",
      "\u001b[0;32m/Applications/anaconda/lib/python2.7/site-packages/pandas/core/indexing.pyc\u001b[0m in \u001b[0;36m_get_slice_axis\u001b[0;34m(self, slice_obj, axis)\u001b[0m\n\u001b[1;32m   1575\u001b[0m             \u001b[0;32mreturn\u001b[0m \u001b[0mobj\u001b[0m\u001b[0;34m\u001b[0m\u001b[0m\n\u001b[1;32m   1576\u001b[0m \u001b[0;34m\u001b[0m\u001b[0m\n\u001b[0;32m-> 1577\u001b[0;31m         \u001b[0mslice_obj\u001b[0m \u001b[0;34m=\u001b[0m \u001b[0mself\u001b[0m\u001b[0;34m.\u001b[0m\u001b[0m_convert_slice_indexer\u001b[0m\u001b[0;34m(\u001b[0m\u001b[0mslice_obj\u001b[0m\u001b[0;34m,\u001b[0m \u001b[0maxis\u001b[0m\u001b[0;34m)\u001b[0m\u001b[0;34m\u001b[0m\u001b[0m\n\u001b[0m\u001b[1;32m   1578\u001b[0m         \u001b[0;32mif\u001b[0m \u001b[0misinstance\u001b[0m\u001b[0;34m(\u001b[0m\u001b[0mslice_obj\u001b[0m\u001b[0;34m,\u001b[0m \u001b[0mslice\u001b[0m\u001b[0;34m)\u001b[0m\u001b[0;34m:\u001b[0m\u001b[0;34m\u001b[0m\u001b[0m\n\u001b[1;32m   1579\u001b[0m             \u001b[0;32mreturn\u001b[0m \u001b[0mself\u001b[0m\u001b[0;34m.\u001b[0m\u001b[0m_slice\u001b[0m\u001b[0;34m(\u001b[0m\u001b[0mslice_obj\u001b[0m\u001b[0;34m,\u001b[0m \u001b[0maxis\u001b[0m\u001b[0;34m=\u001b[0m\u001b[0maxis\u001b[0m\u001b[0;34m,\u001b[0m \u001b[0mkind\u001b[0m\u001b[0;34m=\u001b[0m\u001b[0;34m'iloc'\u001b[0m\u001b[0;34m)\u001b[0m\u001b[0;34m\u001b[0m\u001b[0m\n",
      "\u001b[0;32m/Applications/anaconda/lib/python2.7/site-packages/pandas/core/indexing.pyc\u001b[0m in \u001b[0;36m_convert_slice_indexer\u001b[0;34m(self, key, axis)\u001b[0m\n\u001b[1;32m    190\u001b[0m         \u001b[0;31m# if we are accessing via lowered dim, use the last dim\u001b[0m\u001b[0;34m\u001b[0m\u001b[0;34m\u001b[0m\u001b[0m\n\u001b[1;32m    191\u001b[0m         \u001b[0max\u001b[0m \u001b[0;34m=\u001b[0m \u001b[0mself\u001b[0m\u001b[0;34m.\u001b[0m\u001b[0mobj\u001b[0m\u001b[0;34m.\u001b[0m\u001b[0m_get_axis\u001b[0m\u001b[0;34m(\u001b[0m\u001b[0mmin\u001b[0m\u001b[0;34m(\u001b[0m\u001b[0maxis\u001b[0m\u001b[0;34m,\u001b[0m \u001b[0mself\u001b[0m\u001b[0;34m.\u001b[0m\u001b[0mndim\u001b[0m \u001b[0;34m-\u001b[0m \u001b[0;36m1\u001b[0m\u001b[0;34m)\u001b[0m\u001b[0;34m)\u001b[0m\u001b[0;34m\u001b[0m\u001b[0m\n\u001b[0;32m--> 192\u001b[0;31m         \u001b[0;32mreturn\u001b[0m \u001b[0max\u001b[0m\u001b[0;34m.\u001b[0m\u001b[0m_convert_slice_indexer\u001b[0m\u001b[0;34m(\u001b[0m\u001b[0mkey\u001b[0m\u001b[0;34m,\u001b[0m \u001b[0mkind\u001b[0m\u001b[0;34m=\u001b[0m\u001b[0mself\u001b[0m\u001b[0;34m.\u001b[0m\u001b[0mname\u001b[0m\u001b[0;34m)\u001b[0m\u001b[0;34m\u001b[0m\u001b[0m\n\u001b[0m\u001b[1;32m    193\u001b[0m \u001b[0;34m\u001b[0m\u001b[0m\n\u001b[1;32m    194\u001b[0m     \u001b[0;32mdef\u001b[0m \u001b[0m_has_valid_setitem_indexer\u001b[0m\u001b[0;34m(\u001b[0m\u001b[0mself\u001b[0m\u001b[0;34m,\u001b[0m \u001b[0mindexer\u001b[0m\u001b[0;34m)\u001b[0m\u001b[0;34m:\u001b[0m\u001b[0;34m\u001b[0m\u001b[0m\n",
      "\u001b[0;32m/Applications/anaconda/lib/python2.7/site-packages/pandas/indexes/base.pyc\u001b[0m in \u001b[0;36m_convert_slice_indexer\u001b[0;34m(self, key, kind)\u001b[0m\n\u001b[1;32m   1031\u001b[0m         \u001b[0;31m# validate iloc\u001b[0m\u001b[0;34m\u001b[0m\u001b[0;34m\u001b[0m\u001b[0m\n\u001b[1;32m   1032\u001b[0m         \u001b[0;32mif\u001b[0m \u001b[0mkind\u001b[0m \u001b[0;34m==\u001b[0m \u001b[0;34m'iloc'\u001b[0m\u001b[0;34m:\u001b[0m\u001b[0;34m\u001b[0m\u001b[0m\n\u001b[0;32m-> 1033\u001b[0;31m             return slice(self._validate_indexer('slice', key.start, kind),\n\u001b[0m\u001b[1;32m   1034\u001b[0m                          \u001b[0mself\u001b[0m\u001b[0;34m.\u001b[0m\u001b[0m_validate_indexer\u001b[0m\u001b[0;34m(\u001b[0m\u001b[0;34m'slice'\u001b[0m\u001b[0;34m,\u001b[0m \u001b[0mkey\u001b[0m\u001b[0;34m.\u001b[0m\u001b[0mstop\u001b[0m\u001b[0;34m,\u001b[0m \u001b[0mkind\u001b[0m\u001b[0;34m)\u001b[0m\u001b[0;34m,\u001b[0m\u001b[0;34m\u001b[0m\u001b[0m\n\u001b[1;32m   1035\u001b[0m                          self._validate_indexer('slice', key.step, kind))\n",
      "\u001b[0;32m/Applications/anaconda/lib/python2.7/site-packages/pandas/indexes/base.pyc\u001b[0m in \u001b[0;36m_validate_indexer\u001b[0;34m(self, form, key, kind)\u001b[0m\n\u001b[1;32m   2821\u001b[0m             \u001b[0;32mpass\u001b[0m\u001b[0;34m\u001b[0m\u001b[0m\n\u001b[1;32m   2822\u001b[0m         \u001b[0;32melif\u001b[0m \u001b[0mkind\u001b[0m \u001b[0;32min\u001b[0m \u001b[0;34m[\u001b[0m\u001b[0;34m'iloc'\u001b[0m\u001b[0;34m,\u001b[0m \u001b[0;34m'getitem'\u001b[0m\u001b[0;34m]\u001b[0m\u001b[0;34m:\u001b[0m\u001b[0;34m\u001b[0m\u001b[0m\n\u001b[0;32m-> 2823\u001b[0;31m             \u001b[0mself\u001b[0m\u001b[0;34m.\u001b[0m\u001b[0m_invalid_indexer\u001b[0m\u001b[0;34m(\u001b[0m\u001b[0mform\u001b[0m\u001b[0;34m,\u001b[0m \u001b[0mkey\u001b[0m\u001b[0;34m)\u001b[0m\u001b[0;34m\u001b[0m\u001b[0m\n\u001b[0m\u001b[1;32m   2824\u001b[0m         \u001b[0;32mreturn\u001b[0m \u001b[0mkey\u001b[0m\u001b[0;34m\u001b[0m\u001b[0m\n\u001b[1;32m   2825\u001b[0m \u001b[0;34m\u001b[0m\u001b[0m\n",
      "\u001b[0;32m/Applications/anaconda/lib/python2.7/site-packages/pandas/indexes/base.pyc\u001b[0m in \u001b[0;36m_invalid_indexer\u001b[0;34m(self, form, key)\u001b[0m\n\u001b[1;32m   1123\u001b[0m                         \"indexers [{key}] of {kind}\".format(\n\u001b[1;32m   1124\u001b[0m                             \u001b[0mform\u001b[0m\u001b[0;34m=\u001b[0m\u001b[0mform\u001b[0m\u001b[0;34m,\u001b[0m \u001b[0mklass\u001b[0m\u001b[0;34m=\u001b[0m\u001b[0mtype\u001b[0m\u001b[0;34m(\u001b[0m\u001b[0mself\u001b[0m\u001b[0;34m)\u001b[0m\u001b[0;34m,\u001b[0m \u001b[0mkey\u001b[0m\u001b[0;34m=\u001b[0m\u001b[0mkey\u001b[0m\u001b[0;34m,\u001b[0m\u001b[0;34m\u001b[0m\u001b[0m\n\u001b[0;32m-> 1125\u001b[0;31m                             kind=type(key)))\n\u001b[0m\u001b[1;32m   1126\u001b[0m \u001b[0;34m\u001b[0m\u001b[0m\n\u001b[1;32m   1127\u001b[0m     \u001b[0;32mdef\u001b[0m \u001b[0mget_duplicates\u001b[0m\u001b[0;34m(\u001b[0m\u001b[0mself\u001b[0m\u001b[0;34m)\u001b[0m\u001b[0;34m:\u001b[0m\u001b[0;34m\u001b[0m\u001b[0m\n",
      "\u001b[0;31mTypeError\u001b[0m: cannot do slice indexing on <class 'pandas.indexes.base.Index'> with these indexers [0] of <type 'str'>"
     ]
    }
   ],
   "source": [
    "final_norm_features.iloc[:, \"0\":\"2\"]"
   ]
  },
  {
   "cell_type": "code",
   "execution_count": 34,
   "metadata": {
    "collapsed": false
   },
   "outputs": [],
   "source": [
    "model_data = pa.read_csv(\"../bytecup2016data/question_info.txt\", sep='\\t')\n",
    "# qid = '1c525c9d44135bdc40ddd4b8d63738d8'\n",
    "qList = model_data['question_ID1'].tolist()\n",
    "upvotes = model_data['number_of_upvotes'].tolist()"
   ]
  },
  {
   "cell_type": "code",
   "execution_count": null,
   "metadata": {
    "collapsed": true
   },
   "outputs": [],
   "source": [
    "# upvotes = model_data.loc[model_data['question_ID1'] == qid]['number_of_upvotes'].values[0]\n",
    "# totalanswers = model_data.loc[model_data['question_ID1'] == qid]['number_of_answers'].values[0]\n",
    "# top_qual_answers = model_data.loc[model_data['question_ID1'] == qid]['number_of_top_quality_answers'].values[0]"
   ]
  },
  {
   "cell_type": "code",
   "execution_count": 36,
   "metadata": {
    "collapsed": false
   },
   "outputs": [],
   "source": [
    "item_info = gl.SFrame({'item_id': qList,\n",
    "                              'numeric_feature': upvotes})"
   ]
  },
  {
   "cell_type": "code",
   "execution_count": null,
   "metadata": {
    "collapsed": true
   },
   "outputs": [],
   "source": []
  }
 ],
 "metadata": {
  "kernelspec": {
   "display_name": "Python 2",
   "language": "python",
   "name": "python2"
  },
  "language_info": {
   "codemirror_mode": {
    "name": "ipython",
    "version": 2
   },
   "file_extension": ".py",
   "mimetype": "text/x-python",
   "name": "python",
   "nbconvert_exporter": "python",
   "pygments_lexer": "ipython2",
   "version": "2.7.12"
  }
 },
 "nbformat": 4,
 "nbformat_minor": 0
}
